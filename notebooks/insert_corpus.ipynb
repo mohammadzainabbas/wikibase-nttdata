{
 "cells": [
  {
   "cell_type": "code",
   "execution_count": 1,
   "id": "9ef43b03-7605-465e-90b6-e02d86f56edb",
   "metadata": {},
   "outputs": [],
   "source": [
    "from wikibaseintegrator.models import Qualifiers, References, Reference\n",
    "from wikibaseintegrator import WikibaseIntegrator\n",
    "from wikibaseintegrator import wbi_login\n",
    "from wikibaseintegrator import datatypes\n",
    "from wikibaseintegrator.wbi_config import config as wbi_config\n",
    "from os.path import join, isfile, exists, isdir, abspath, pardir\n",
    "from os import listdir, getcwd\n",
    "import pandas as pd\n",
    "from wikibaseintegrator.datatypes import (URL, CommonsMedia, ExternalID, Form, GeoShape, GlobeCoordinate, Item, Lexeme, Math, MonolingualText, MusicalNotation, Property, Quantity, Sense, String, TabularData, Time)\n",
    "from wikibaseintegrator.wbi_enums import ActionIfExists, WikibaseDatePrecision, WikibaseRank, WikibaseSnakType\n",
    "from wikibaseintegrator.wbi_exceptions import MissingEntityException, ModificationFailed, MWApiError"
   ]
  },
  {
   "cell_type": "code",
   "execution_count": 2,
   "id": "1334018b-1b0d-4c5f-af1f-0fedbb61b5e0",
   "metadata": {},
   "outputs": [],
   "source": [
    "# Default variables\n",
    "WDUSER, WDPASS = \"Admin\", \"90J8XXXaO4Sr9^^Z\"\n",
    "# WDUSER, WDPASS = \"Mohammadzainabbas\", \"fHh!%shFa6^h\""
   ]
  },
  {
   "cell_type": "code",
   "execution_count": 3,
   "id": "3779edb8",
   "metadata": {},
   "outputs": [],
   "source": [
    "parent_dir = abspath(join(getcwd(), pardir))\n",
    "data_dir = join(parent_dir, \"data\")\n",
    "column_mapping = join(data_dir, \"column_mapping.csv\")\n",
    "project_mapping = join(data_dir, \"project_mapping.csv\")\n",
    "team_mapping = join(data_dir, \"team_mapping.csv\")"
   ]
  },
  {
   "cell_type": "code",
   "execution_count": 4,
   "id": "094b17a2-212a-43c4-bcf2-9b21f05a5d0f",
   "metadata": {},
   "outputs": [],
   "source": [
    "def setup_config():\n",
    "    \"\"\"\n",
    "    Set up WBI config to use local docker installation\n",
    "    \"\"\"\n",
    "    wbi_config['MEDIAWIKI_API_URL'] = 'http://139.144.66.193:8181/api.php'\n",
    "    wbi_config['SPARQL_ENDPOINT_URL'] = '\"http://139.144.66.193:8282/proxy/wdqs/bigdata/namespace/wdq/sparql\"'\n",
    "    wbi_config['WIKIBASE_URL'] = 'http://wikibase.svc'"
   ]
  },
  {
   "cell_type": "code",
   "execution_count": 5,
   "id": "01c04e6a-c475-4f01-8f82-2bd1e5d4523d",
   "metadata": {},
   "outputs": [],
   "source": [
    "setup_config()"
   ]
  },
  {
   "cell_type": "code",
   "execution_count": 6,
   "id": "8012c13a-2f8b-4205-8752-bb32c8f1538b",
   "metadata": {},
   "outputs": [
    {
     "name": "stderr",
     "output_type": "stream",
     "text": [
      "WARNING:root:MediaWiki login warnings messages:\n",
      "WARNING:root:* main: Subscribe to the mediawiki-api-announce mailing list at <https://lists.wikimedia.org/mailman/listinfo/mediawiki-api-announce> for notice of API deprecations and breaking changes.\n",
      "WARNING:root:* login: Main-account login via \"action=login\" is deprecated and may stop working without warning. To continue login with \"action=login\", see [[Special:BotPasswords]]. To safely continue using main-account login, see \"action=clientlogin\".\n"
     ]
    }
   ],
   "source": [
    "login = wbi_login.Login(user=WDUSER, password=WDPASS)"
   ]
  },
  {
   "cell_type": "code",
   "execution_count": 7,
   "id": "1c962b5b-aea4-474f-8081-86f80e146f83",
   "metadata": {},
   "outputs": [],
   "source": [
    "wbi = WikibaseIntegrator(login=login)"
   ]
  },
  {
   "cell_type": "code",
   "execution_count": 13,
   "id": "b9dc947d-e9c0-4448-b967-9f3afa9e5f8a",
   "metadata": {},
   "outputs": [
    {
     "data": {
      "text/html": [
       "<div>\n",
       "<style scoped>\n",
       "    .dataframe tbody tr th:only-of-type {\n",
       "        vertical-align: middle;\n",
       "    }\n",
       "\n",
       "    .dataframe tbody tr th {\n",
       "        vertical-align: top;\n",
       "    }\n",
       "\n",
       "    .dataframe thead th {\n",
       "        text-align: right;\n",
       "    }\n",
       "</style>\n",
       "<table border=\"1\" class=\"dataframe\">\n",
       "  <thead>\n",
       "    <tr style=\"text-align: right;\">\n",
       "      <th></th>\n",
       "      <th>column</th>\n",
       "      <th>prop</th>\n",
       "      <th>data_type_x</th>\n",
       "      <th>type_x</th>\n",
       "      <th>mapping_code_x</th>\n",
       "      <th>description_x</th>\n",
       "      <th>alias_x</th>\n",
       "      <th>data_type_y</th>\n",
       "      <th>type_y</th>\n",
       "      <th>mapping_code_y</th>\n",
       "      <th>description_y</th>\n",
       "      <th>alias_y</th>\n",
       "    </tr>\n",
       "  </thead>\n",
       "  <tbody>\n",
       "  </tbody>\n",
       "</table>\n",
       "</div>"
      ],
      "text/plain": [
       "Empty DataFrame\n",
       "Columns: [column, prop, data_type_x, type_x, mapping_code_x, description_x, alias_x, data_type_y, type_y, mapping_code_y, description_y, alias_y]\n",
       "Index: []"
      ]
     },
     "execution_count": 13,
     "metadata": {},
     "output_type": "execute_result"
    }
   ],
   "source": [
    "df = pd.read_csv(column_mapping)\n",
    "p_df = pd.read_csv(project_mapping)\n",
    "t_df = pd.read_csv(team_mapping)\n",
    "#merge the two dataframes\n",
    "df = df.merge(p_df, on=\"column\", how=\"inner\")\n",
    "df = df.merge(t_df, on=\"column\", how=\"inner\")\n",
    "df.head()"
   ]
  },
  {
   "cell_type": "code",
   "execution_count": 9,
   "id": "10185833",
   "metadata": {},
   "outputs": [],
   "source": [
    "column_names = df.columns.to_list()"
   ]
  },
  {
   "cell_type": "code",
   "execution_count": 10,
   "id": "26ac174f",
   "metadata": {},
   "outputs": [],
   "source": [
    "def create_mapping(file_name):\n",
    "    # Read .csv file to create mappings\n",
    "    __df = pd.read_csv(join(file_name))\n",
    "    \n",
    "    if __df.empty: return\n",
    "\n",
    "    columns_with_mappings = list(__df.T.to_dict().values())\n",
    "\n",
    "    for item in columns_with_mappings:\n",
    "        __col_name = item['column']\n",
    "        __data_type = item['data_type']\n",
    "        __type = item['type']\n",
    "        __mapping_code = item['mapping_code']\n",
    "        __description = item['description']\n",
    "        __alias = item['alias']\n",
    "\n",
    "        try:\n",
    "\n",
    "            p = wbi.property.new(datatype=__data_type)\n",
    "            p.labels.set('en', __col_name)\n",
    "            p.descriptions.set('en', __description)\n",
    "            p.aliases.set('en', __alias)\n",
    "\n",
    "            res = p.write()\n",
    "\n",
    "            ident = [x for x in str(res).split('\\n') if \"_id='P\" in x]\n",
    "            if len(ident) == 1:\n",
    "                prop_code = ident[0].split(\"'\")[1]\n",
    "                print(\"Column '{}' is mapped to '{}'\".format(__col_name, prop_code))\n",
    "            else:\n",
    "                raise Exception(\"Surprise, this method didn't work.\")\n",
    "        \n",
    "        except ModificationFailed as e:\n",
    "            print(\"Property '{}' already exists\".format(__col_name))\n",
    "            continue"
   ]
  },
  {
   "cell_type": "code",
   "execution_count": 11,
   "id": "f06af458",
   "metadata": {},
   "outputs": [
    {
     "name": "stdout",
     "output_type": "stream",
     "text": [
      "Column 'Id' is mapped to 'P1'\n",
      "Column 'Name' is mapped to 'P2'\n",
      "Column 'Family Name' is mapped to 'P3'\n",
      "Column 'Birthdate' is mapped to 'P4'\n",
      "Column 'Nationality' is mapped to 'P5'\n",
      "Column 'Category' is mapped to 'P6'\n",
      "Column 'Start date' is mapped to 'P7'\n",
      "Column 'End date' is mapped to 'P8'\n"
     ]
    }
   ],
   "source": [
    "team_mapping = join(data_dir, \"team_mapping.csv\")\n",
    "create_mapping(team_mapping)"
   ]
  },
  {
   "cell_type": "code",
   "execution_count": 12,
   "id": "a217f902",
   "metadata": {},
   "outputs": [
    {
     "name": "stdout",
     "output_type": "stream",
     "text": [
      "Column 'Client Type' is mapped to 'P9'\n",
      "Column 'Client' is mapped to 'P10'\n",
      "Column 'Project' is mapped to 'P11'\n",
      "Column 'Project Type' is mapped to 'P12'\n",
      "Column 'Task' is mapped to 'P13'\n",
      "Column 'Owner' is mapped to 'P14'\n",
      "Column 'Member' is mapped to 'P15'\n",
      "Column 'Duration (in days)' is mapped to 'P16'\n",
      "Column 'Project Start date' is mapped to 'P17'\n",
      "Column 'Project End date' is mapped to 'P18'\n"
     ]
    }
   ],
   "source": [
    "project_mapping = join(data_dir, \"project_mapping.csv\")\n",
    "create_mapping(project_mapping)"
   ]
  }
 ],
 "metadata": {
  "kernelspec": {
   "display_name": "Python 3.10.4 ('wikibase': conda)",
   "language": "python",
   "name": "python3"
  },
  "language_info": {
   "codemirror_mode": {
    "name": "ipython",
    "version": 3
   },
   "file_extension": ".py",
   "mimetype": "text/x-python",
   "name": "python",
   "nbconvert_exporter": "python",
   "pygments_lexer": "ipython3",
   "version": "3.10.4"
  },
  "vscode": {
   "interpreter": {
    "hash": "6c22d6f1796eae68ca5ff538193c965dfba0cad9bffc3b4e0ee17974b903305c"
   }
  }
 },
 "nbformat": 4,
 "nbformat_minor": 5
}
