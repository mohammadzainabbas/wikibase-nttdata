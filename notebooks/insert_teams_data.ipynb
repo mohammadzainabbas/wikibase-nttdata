{
 "cells": [
  {
   "cell_type": "code",
   "execution_count": 2,
   "id": "9ef43b03-7605-465e-90b6-e02d86f56edb",
   "metadata": {},
   "outputs": [],
   "source": [
    "from wikibaseintegrator.models import Qualifiers, References, Reference\n",
    "from wikibaseintegrator import WikibaseIntegrator\n",
    "from wikibaseintegrator import wbi_login\n",
    "from wikibaseintegrator import datatypes\n",
    "from wikibaseintegrator.wbi_config import config as wbi_config\n",
    "from os.path import join, isfile, exists, isdir, abspath, pardir\n",
    "from os import listdir, getcwd\n",
    "import pandas as pd\n",
    "from wikibaseintegrator.datatypes import (URL, CommonsMedia, ExternalID, Form, GeoShape, GlobeCoordinate, Item, Lexeme, Math, MonolingualText, MusicalNotation, Property, Quantity, Sense, String, TabularData, Time)\n",
    "from wikibaseintegrator.wbi_enums import ActionIfExists, WikibaseDatePrecision, WikibaseRank, WikibaseSnakType\n",
    "from wikibaseintegrator.wbi_exceptions import MissingEntityException, ModificationFailed, MWApiError"
   ]
  },
  {
   "cell_type": "code",
   "execution_count": 4,
   "id": "1334018b-1b0d-4c5f-af1f-0fedbb61b5e0",
   "metadata": {},
   "outputs": [],
   "source": [
    "# Default variables\n",
    "WDUSER, WDPASS = \"Admin\", \"90J8XXXaO4Sr9^^Z\"\n",
    "# WDUSER, WDPASS = \"Mohammadzainabbas\", \"fHh!%shFa6^h\""
   ]
  },
  {
   "cell_type": "code",
   "execution_count": 26,
   "id": "3779edb8",
   "metadata": {},
   "outputs": [],
   "source": [
    "parent_dir = abspath(join(getcwd(), pardir))\n",
    "data_dir = join(parent_dir, \"data\")\n",
    "team_data = join(data_dir, \"BDMA_Team_v1.csv\")\n",
    "project_data = join(data_dir, \"BDMA_Projects_v1.csv\")\n",
    "column_mapping_data = join(data_dir, \"column_mapping.csv\")"
   ]
  },
  {
   "cell_type": "code",
   "execution_count": 5,
   "id": "094b17a2-212a-43c4-bcf2-9b21f05a5d0f",
   "metadata": {},
   "outputs": [],
   "source": [
    "def setup_config():\n",
    "    \"\"\"\n",
    "    Set up WBI config to use local docker installation\n",
    "    \"\"\"\n",
    "    wbi_config['MEDIAWIKI_API_URL'] = 'http://139.144.66.193:8181/api.php'\n",
    "    wbi_config['SPARQL_ENDPOINT_URL'] = '\"http://139.144.66.193:8282/proxy/wdqs/bigdata/namespace/wdq/sparql\"'\n",
    "    wbi_config['WIKIBASE_URL'] = 'http://wikibase.svc'"
   ]
  },
  {
   "cell_type": "code",
   "execution_count": 6,
   "id": "01c04e6a-c475-4f01-8f82-2bd1e5d4523d",
   "metadata": {},
   "outputs": [],
   "source": [
    "setup_config()"
   ]
  },
  {
   "cell_type": "code",
   "execution_count": 7,
   "id": "8012c13a-2f8b-4205-8752-bb32c8f1538b",
   "metadata": {},
   "outputs": [
    {
     "name": "stderr",
     "output_type": "stream",
     "text": [
      "WARNING:root:MediaWiki login warnings messages:\n",
      "WARNING:root:* main: Subscribe to the mediawiki-api-announce mailing list at <https://lists.wikimedia.org/mailman/listinfo/mediawiki-api-announce> for notice of API deprecations and breaking changes.\n",
      "WARNING:root:* login: Main-account login via \"action=login\" is deprecated and may stop working without warning. To continue login with \"action=login\", see [[Special:BotPasswords]]. To safely continue using main-account login, see \"action=clientlogin\".\n"
     ]
    }
   ],
   "source": [
    "login = wbi_login.Login(user=WDUSER, password=WDPASS)"
   ]
  },
  {
   "cell_type": "code",
   "execution_count": 8,
   "id": "1c962b5b-aea4-474f-8081-86f80e146f83",
   "metadata": {},
   "outputs": [],
   "source": [
    "wbi = WikibaseIntegrator(login=login)"
   ]
  },
  {
   "cell_type": "code",
   "execution_count": 27,
   "id": "b9dc947d-e9c0-4448-b967-9f3afa9e5f8a",
   "metadata": {},
   "outputs": [],
   "source": [
    "df = pd.read_csv(column_mapping_data)\n",
    "column_mapping = df.set_index(\"column\").T.to_dict()"
   ]
  },
  {
   "cell_type": "code",
   "execution_count": 16,
   "id": "aa920ff6",
   "metadata": {},
   "outputs": [
    {
     "data": {
      "text/html": [
       "<div>\n",
       "<style scoped>\n",
       "    .dataframe tbody tr th:only-of-type {\n",
       "        vertical-align: middle;\n",
       "    }\n",
       "\n",
       "    .dataframe tbody tr th {\n",
       "        vertical-align: top;\n",
       "    }\n",
       "\n",
       "    .dataframe thead th {\n",
       "        text-align: right;\n",
       "    }\n",
       "</style>\n",
       "<table border=\"1\" class=\"dataframe\">\n",
       "  <thead>\n",
       "    <tr style=\"text-align: right;\">\n",
       "      <th></th>\n",
       "      <th>Id</th>\n",
       "      <th>Name</th>\n",
       "      <th>Family Name</th>\n",
       "      <th>Birthdate</th>\n",
       "      <th>Nationality</th>\n",
       "      <th>Category</th>\n",
       "      <th>Start date</th>\n",
       "      <th>End date</th>\n",
       "    </tr>\n",
       "  </thead>\n",
       "  <tbody>\n",
       "    <tr>\n",
       "      <th>0</th>\n",
       "      <td>S000001</td>\n",
       "      <td>Mohammad Zain</td>\n",
       "      <td>Abbas</td>\n",
       "      <td>09/05/1995</td>\n",
       "      <td>Pakistani</td>\n",
       "      <td>SK-N3</td>\n",
       "      <td>19/07/2022</td>\n",
       "      <td>06/09/2022</td>\n",
       "    </tr>\n",
       "    <tr>\n",
       "      <th>1</th>\n",
       "      <td>S000002</td>\n",
       "      <td>Kainaat</td>\n",
       "      <td>Amjid</td>\n",
       "      <td>30/12/1996</td>\n",
       "      <td>Pakistani</td>\n",
       "      <td>SK-N1</td>\n",
       "      <td>19/07/2022</td>\n",
       "      <td>13/09/2022</td>\n",
       "    </tr>\n",
       "    <tr>\n",
       "      <th>2</th>\n",
       "      <td>S000003</td>\n",
       "      <td>Sergio</td>\n",
       "      <td>Postigo</td>\n",
       "      <td>12/02/1996</td>\n",
       "      <td>Peru</td>\n",
       "      <td>SK-N2</td>\n",
       "      <td>26/07/2022</td>\n",
       "      <td>13/10/2022</td>\n",
       "    </tr>\n",
       "    <tr>\n",
       "      <th>3</th>\n",
       "      <td>S000004</td>\n",
       "      <td>Emmanuel</td>\n",
       "      <td>Jamin</td>\n",
       "      <td>28/09/1978</td>\n",
       "      <td>French</td>\n",
       "      <td>SKL-N2</td>\n",
       "      <td>10/01/2015</td>\n",
       "      <td>11/01/2015</td>\n",
       "    </tr>\n",
       "  </tbody>\n",
       "</table>\n",
       "</div>"
      ],
      "text/plain": [
       "        Id           Name Family Name   Birthdate Nationality Category  \\\n",
       "0  S000001  Mohammad Zain       Abbas  09/05/1995   Pakistani    SK-N3   \n",
       "1  S000002        Kainaat       Amjid  30/12/1996   Pakistani    SK-N1   \n",
       "2  S000003         Sergio     Postigo  12/02/1996        Peru    SK-N2   \n",
       "3  S000004       Emmanuel       Jamin  28/09/1978      French   SKL-N2   \n",
       "\n",
       "   Start date    End date  \n",
       "0  19/07/2022  06/09/2022  \n",
       "1  19/07/2022  13/09/2022  \n",
       "2  26/07/2022  13/10/2022  \n",
       "3  10/01/2015  11/01/2015  "
      ]
     },
     "execution_count": 16,
     "metadata": {},
     "output_type": "execute_result"
    }
   ],
   "source": [
    "team_df = pd.read_csv(team_data)\n",
    "team_df.head()"
   ]
  },
  {
   "cell_type": "code",
   "execution_count": 17,
   "id": "9ad683cc",
   "metadata": {},
   "outputs": [
    {
     "data": {
      "text/html": [
       "<div>\n",
       "<style scoped>\n",
       "    .dataframe tbody tr th:only-of-type {\n",
       "        vertical-align: middle;\n",
       "    }\n",
       "\n",
       "    .dataframe tbody tr th {\n",
       "        vertical-align: top;\n",
       "    }\n",
       "\n",
       "    .dataframe thead th {\n",
       "        text-align: right;\n",
       "    }\n",
       "</style>\n",
       "<table border=\"1\" class=\"dataframe\">\n",
       "  <thead>\n",
       "    <tr style=\"text-align: right;\">\n",
       "      <th></th>\n",
       "      <th>Client Type</th>\n",
       "      <th>Client</th>\n",
       "      <th>Project</th>\n",
       "      <th>Project Type</th>\n",
       "      <th>Task</th>\n",
       "      <th>Owner</th>\n",
       "      <th>Member</th>\n",
       "      <th>Duration (in days)</th>\n",
       "      <th>Project Start date</th>\n",
       "      <th>Project End date</th>\n",
       "    </tr>\n",
       "  </thead>\n",
       "  <tbody>\n",
       "    <tr>\n",
       "      <th>0</th>\n",
       "      <td>NTTData</td>\n",
       "      <td>SEMBU Team</td>\n",
       "      <td>SEMBU</td>\n",
       "      <td>Project</td>\n",
       "      <td>Wikibase</td>\n",
       "      <td>Emmanuel Jamin</td>\n",
       "      <td>Mohammad Zain Abbas</td>\n",
       "      <td>47</td>\n",
       "      <td>19/07/2022</td>\n",
       "      <td>06/09/2022</td>\n",
       "    </tr>\n",
       "    <tr>\n",
       "      <th>1</th>\n",
       "      <td>NTTData</td>\n",
       "      <td>SEMBU Team</td>\n",
       "      <td>SEMBU</td>\n",
       "      <td>Project</td>\n",
       "      <td>Solid Pods</td>\n",
       "      <td>Emmanuel Jamin</td>\n",
       "      <td>Kainaat Amjid</td>\n",
       "      <td>55</td>\n",
       "      <td>19/07/2022</td>\n",
       "      <td>13/09/2022</td>\n",
       "    </tr>\n",
       "    <tr>\n",
       "      <th>2</th>\n",
       "      <td>NTTData</td>\n",
       "      <td>SEMBU Team</td>\n",
       "      <td>SEMBU</td>\n",
       "      <td>Project</td>\n",
       "      <td>Entity Resolution</td>\n",
       "      <td>Emmanuel Jamin</td>\n",
       "      <td>Sergio Postigo</td>\n",
       "      <td>60</td>\n",
       "      <td>26/07/2022</td>\n",
       "      <td>28/09/2022</td>\n",
       "    </tr>\n",
       "  </tbody>\n",
       "</table>\n",
       "</div>"
      ],
      "text/plain": [
       "  Client Type      Client Project Project Type               Task  \\\n",
       "0     NTTData  SEMBU Team   SEMBU      Project           Wikibase   \n",
       "1     NTTData  SEMBU Team   SEMBU      Project         Solid Pods   \n",
       "2     NTTData  SEMBU Team   SEMBU      Project  Entity Resolution   \n",
       "\n",
       "            Owner               Member  Duration (in days) Project Start date  \\\n",
       "0  Emmanuel Jamin  Mohammad Zain Abbas                  47         19/07/2022   \n",
       "1  Emmanuel Jamin        Kainaat Amjid                  55         19/07/2022   \n",
       "2  Emmanuel Jamin       Sergio Postigo                  60         26/07/2022   \n",
       "\n",
       "  Project End date  \n",
       "0       06/09/2022  \n",
       "1       13/09/2022  \n",
       "2       28/09/2022  "
      ]
     },
     "execution_count": 17,
     "metadata": {},
     "output_type": "execute_result"
    }
   ],
   "source": [
    "project_df = pd.read_csv(project_data)\n",
    "project_df.head()"
   ]
  },
  {
   "cell_type": "code",
   "execution_count": 18,
   "id": "8754c3f8",
   "metadata": {},
   "outputs": [],
   "source": [
    "team_df['full_name'] = team_df['Name'] + \" \" + team_df['Family Name']"
   ]
  },
  {
   "cell_type": "code",
   "execution_count": 22,
   "id": "9fb321ac",
   "metadata": {},
   "outputs": [
    {
     "data": {
      "text/html": [
       "<div>\n",
       "<style scoped>\n",
       "    .dataframe tbody tr th:only-of-type {\n",
       "        vertical-align: middle;\n",
       "    }\n",
       "\n",
       "    .dataframe tbody tr th {\n",
       "        vertical-align: top;\n",
       "    }\n",
       "\n",
       "    .dataframe thead th {\n",
       "        text-align: right;\n",
       "    }\n",
       "</style>\n",
       "<table border=\"1\" class=\"dataframe\">\n",
       "  <thead>\n",
       "    <tr style=\"text-align: right;\">\n",
       "      <th></th>\n",
       "      <th>Id</th>\n",
       "      <th>Name</th>\n",
       "      <th>Family Name</th>\n",
       "      <th>Birthdate</th>\n",
       "      <th>Nationality</th>\n",
       "      <th>Category</th>\n",
       "      <th>Start date</th>\n",
       "      <th>End date</th>\n",
       "      <th>Client Type</th>\n",
       "      <th>Client</th>\n",
       "      <th>Project</th>\n",
       "      <th>Project Type</th>\n",
       "      <th>Task</th>\n",
       "      <th>Owner</th>\n",
       "      <th>Member</th>\n",
       "      <th>Duration (in days)</th>\n",
       "      <th>Project Start date</th>\n",
       "      <th>Project End date</th>\n",
       "    </tr>\n",
       "  </thead>\n",
       "  <tbody>\n",
       "    <tr>\n",
       "      <th>0</th>\n",
       "      <td>S000001</td>\n",
       "      <td>Mohammad Zain</td>\n",
       "      <td>Abbas</td>\n",
       "      <td>09/05/1995</td>\n",
       "      <td>Pakistani</td>\n",
       "      <td>SK-N3</td>\n",
       "      <td>19/07/2022</td>\n",
       "      <td>06/09/2022</td>\n",
       "      <td>NTTData</td>\n",
       "      <td>SEMBU Team</td>\n",
       "      <td>SEMBU</td>\n",
       "      <td>Project</td>\n",
       "      <td>Wikibase</td>\n",
       "      <td>Emmanuel Jamin</td>\n",
       "      <td>Mohammad Zain Abbas</td>\n",
       "      <td>47</td>\n",
       "      <td>19/07/2022</td>\n",
       "      <td>06/09/2022</td>\n",
       "    </tr>\n",
       "    <tr>\n",
       "      <th>1</th>\n",
       "      <td>S000002</td>\n",
       "      <td>Kainaat</td>\n",
       "      <td>Amjid</td>\n",
       "      <td>30/12/1996</td>\n",
       "      <td>Pakistani</td>\n",
       "      <td>SK-N1</td>\n",
       "      <td>19/07/2022</td>\n",
       "      <td>13/09/2022</td>\n",
       "      <td>NTTData</td>\n",
       "      <td>SEMBU Team</td>\n",
       "      <td>SEMBU</td>\n",
       "      <td>Project</td>\n",
       "      <td>Solid Pods</td>\n",
       "      <td>Emmanuel Jamin</td>\n",
       "      <td>Kainaat Amjid</td>\n",
       "      <td>55</td>\n",
       "      <td>19/07/2022</td>\n",
       "      <td>13/09/2022</td>\n",
       "    </tr>\n",
       "    <tr>\n",
       "      <th>2</th>\n",
       "      <td>S000003</td>\n",
       "      <td>Sergio</td>\n",
       "      <td>Postigo</td>\n",
       "      <td>12/02/1996</td>\n",
       "      <td>Peru</td>\n",
       "      <td>SK-N2</td>\n",
       "      <td>26/07/2022</td>\n",
       "      <td>13/10/2022</td>\n",
       "      <td>NTTData</td>\n",
       "      <td>SEMBU Team</td>\n",
       "      <td>SEMBU</td>\n",
       "      <td>Project</td>\n",
       "      <td>Entity Resolution</td>\n",
       "      <td>Emmanuel Jamin</td>\n",
       "      <td>Sergio Postigo</td>\n",
       "      <td>60</td>\n",
       "      <td>26/07/2022</td>\n",
       "      <td>28/09/2022</td>\n",
       "    </tr>\n",
       "  </tbody>\n",
       "</table>\n",
       "</div>"
      ],
      "text/plain": [
       "        Id           Name Family Name   Birthdate Nationality Category  \\\n",
       "0  S000001  Mohammad Zain       Abbas  09/05/1995   Pakistani    SK-N3   \n",
       "1  S000002        Kainaat       Amjid  30/12/1996   Pakistani    SK-N1   \n",
       "2  S000003         Sergio     Postigo  12/02/1996        Peru    SK-N2   \n",
       "\n",
       "   Start date    End date Client Type      Client Project Project Type  \\\n",
       "0  19/07/2022  06/09/2022     NTTData  SEMBU Team   SEMBU      Project   \n",
       "1  19/07/2022  13/09/2022     NTTData  SEMBU Team   SEMBU      Project   \n",
       "2  26/07/2022  13/10/2022     NTTData  SEMBU Team   SEMBU      Project   \n",
       "\n",
       "                Task           Owner               Member  Duration (in days)  \\\n",
       "0           Wikibase  Emmanuel Jamin  Mohammad Zain Abbas                  47   \n",
       "1         Solid Pods  Emmanuel Jamin        Kainaat Amjid                  55   \n",
       "2  Entity Resolution  Emmanuel Jamin       Sergio Postigo                  60   \n",
       "\n",
       "  Project Start date Project End date  \n",
       "0         19/07/2022       06/09/2022  \n",
       "1         19/07/2022       13/09/2022  \n",
       "2         26/07/2022       28/09/2022  "
      ]
     },
     "execution_count": 22,
     "metadata": {},
     "output_type": "execute_result"
    }
   ],
   "source": [
    "member_df = team_df.merge(project_df, left_on=\"full_name\", right_on=\"Member\", how=\"right\")\n",
    "member_df.drop(columns=[\"full_name\"], inplace=True)\n",
    "member_df.head()"
   ]
  },
  {
   "cell_type": "code",
   "execution_count": 31,
   "id": "71ac43f8",
   "metadata": {},
   "outputs": [
    {
     "data": {
      "text/html": [
       "<div>\n",
       "<style scoped>\n",
       "    .dataframe tbody tr th:only-of-type {\n",
       "        vertical-align: middle;\n",
       "    }\n",
       "\n",
       "    .dataframe tbody tr th {\n",
       "        vertical-align: top;\n",
       "    }\n",
       "\n",
       "    .dataframe thead th {\n",
       "        text-align: right;\n",
       "    }\n",
       "</style>\n",
       "<table border=\"1\" class=\"dataframe\">\n",
       "  <thead>\n",
       "    <tr style=\"text-align: right;\">\n",
       "      <th></th>\n",
       "      <th>Client Type</th>\n",
       "      <th>Client</th>\n",
       "      <th>Project</th>\n",
       "      <th>Project Type</th>\n",
       "      <th>Task</th>\n",
       "      <th>Owner</th>\n",
       "    </tr>\n",
       "  </thead>\n",
       "  <tbody>\n",
       "    <tr>\n",
       "      <th>0</th>\n",
       "      <td>NTTData</td>\n",
       "      <td>SEMBU Team</td>\n",
       "      <td>SEMBU</td>\n",
       "      <td>Project</td>\n",
       "      <td>Wikibase</td>\n",
       "      <td>Emmanuel Jamin</td>\n",
       "    </tr>\n",
       "    <tr>\n",
       "      <th>1</th>\n",
       "      <td>NTTData</td>\n",
       "      <td>SEMBU Team</td>\n",
       "      <td>SEMBU</td>\n",
       "      <td>Project</td>\n",
       "      <td>Solid Pods</td>\n",
       "      <td>Emmanuel Jamin</td>\n",
       "    </tr>\n",
       "    <tr>\n",
       "      <th>2</th>\n",
       "      <td>NTTData</td>\n",
       "      <td>SEMBU Team</td>\n",
       "      <td>SEMBU</td>\n",
       "      <td>Project</td>\n",
       "      <td>Entity Resolution</td>\n",
       "      <td>Emmanuel Jamin</td>\n",
       "    </tr>\n",
       "  </tbody>\n",
       "</table>\n",
       "</div>"
      ],
      "text/plain": [
       "  Client Type      Client Project Project Type               Task  \\\n",
       "0     NTTData  SEMBU Team   SEMBU      Project           Wikibase   \n",
       "1     NTTData  SEMBU Team   SEMBU      Project         Solid Pods   \n",
       "2     NTTData  SEMBU Team   SEMBU      Project  Entity Resolution   \n",
       "\n",
       "            Owner  \n",
       "0  Emmanuel Jamin  \n",
       "1  Emmanuel Jamin  \n",
       "2  Emmanuel Jamin  "
      ]
     },
     "execution_count": 31,
     "metadata": {},
     "output_type": "execute_result"
    }
   ],
   "source": [
    "project_columns = ['Client Type', 'Client', 'Project', 'Project Type', 'Task', 'Owner']\n",
    "project_df = member_df[project_columns]\n",
    "project_df.head()"
   ]
  },
  {
   "cell_type": "code",
   "execution_count": 32,
   "id": "89272b50",
   "metadata": {},
   "outputs": [],
   "source": [
    "org_item = wbi.item.new(title=\"NTTData\")"
   ]
  },
  {
   "cell_type": "code",
   "execution_count": 34,
   "id": "ddaf6420",
   "metadata": {},
   "outputs": [
    {
     "data": {
      "text/plain": [
       "<Sitelink @5ae8f0 site='enwiki' title='NTT Data' badges=[]>"
      ]
     },
     "execution_count": 34,
     "metadata": {},
     "output_type": "execute_result"
    }
   ],
   "source": [
    "org_item.labels.set(\"en\", \"NTTData\")\n",
    "org_item.aliases.set(\"en\", [\"NTT Data\", \"NTT DATA\"])\n",
    "org_item.descriptions.set(\"en\", \"NTT Data Corporation is a Japanese multinational information technology services and consulting company headquartered in Tokyo, Japan.\")\n",
    "org_item.sitelinks.set(\"enwiki\", \"NTT Data\")"
   ]
  },
  {
   "cell_type": "code",
   "execution_count": 36,
   "id": "ebfe954d",
   "metadata": {},
   "outputs": [
    {
     "ename": "TypeError",
     "evalue": "Property.__init__() takes from 1 to 2 positional arguments but 3 were given",
     "output_type": "error",
     "traceback": [
      "\u001b[0;31m---------------------------------------------------------------------------\u001b[0m",
      "\u001b[0;31mTypeError\u001b[0m                                 Traceback (most recent call last)",
      "\u001b[1;32m/root/wikibase-nttdata/notebooks/insert_teams_data.ipynb Cell 16\u001b[0m in \u001b[0;36m<cell line: 1>\u001b[0;34m()\u001b[0m\n\u001b[0;32m----> <a href='vscode-notebook-cell://ssh-remote%2B7b22686f73744e616d65223a22524f4f545f4a41525649535f4c494e4f4445227d/root/wikibase-nttdata/notebooks/insert_teams_data.ipynb#X31sdnNjb2RlLXJlbW90ZQ%3D%3D?line=0'>1</a>\u001b[0m org_item\u001b[39m.\u001b[39madd_claims([Property(\u001b[39m\"\u001b[39;49m\u001b[39mP31\u001b[39;49m\u001b[39m\"\u001b[39;49m, Item(\u001b[39m\"\u001b[39;49m\u001b[39mQ4830453\u001b[39;49m\u001b[39m\"\u001b[39;49m))])\n",
      "\u001b[0;31mTypeError\u001b[0m: Property.__init__() takes from 1 to 2 positional arguments but 3 were given"
     ]
    }
   ],
   "source": [
    "org_item.add_claims([Property(\"P31\", Item(\"Q4830453\"))])"
   ]
  },
  {
   "cell_type": "code",
   "execution_count": null,
   "id": "15b8674f",
   "metadata": {},
   "outputs": [],
   "source": []
  },
  {
   "cell_type": "code",
   "execution_count": null,
   "id": "1a5f4749",
   "metadata": {},
   "outputs": [],
   "source": [
    "new_qualifiers = Qualifiers()\n",
    "\n",
    "new_qualifiers.add(\"P31\", \"Q5\", snak_type=WikibaseSnakType.VALUE)"
   ]
  },
  {
   "cell_type": "code",
   "execution_count": 33,
   "metadata": {},
   "outputs": [
    {
     "data": {
      "text/plain": [
       "{'labels': {}, 'descriptions': {}, 'aliases': {}, 'type': 'item', 'claims': {}}"
      ]
     },
     "execution_count": 33,
     "metadata": {},
     "output_type": "execute_result"
    }
   ],
   "source": [
    "org_item.get_json()"
   ]
  },
  {
   "cell_type": "code",
   "execution_count": null,
   "metadata": {},
   "outputs": [],
   "source": []
  },
  {
   "cell_type": "code",
   "execution_count": 29,
   "id": "10185833",
   "metadata": {},
   "outputs": [
    {
     "data": {
      "text/plain": [
       "{'prop': 'P15', 'data_type': 'string', 'type': 'internal', 'mapping_code': nan}"
      ]
     },
     "execution_count": 29,
     "metadata": {},
     "output_type": "execute_result"
    }
   ],
   "source": [
    "column_mapping['Member']"
   ]
  },
  {
   "cell_type": "code",
   "execution_count": null,
   "id": "29dc0a2d",
   "metadata": {},
   "outputs": [],
   "source": [
    "item = wbi.item.new()\n",
    "\n",
    "# iterate over dataframe rows\n",
    "for index, row in member_df.iterrows():\n",
    "    # get the item\n",
    "    item = wbi.item.new()\n",
    "    new_qualifiers = Qualifiers()\n",
    "    new_references = References()\n",
    "    is_claim = False\n",
    "\n",
    "    # iterate over columns\n",
    "    for column in row.index:\n",
    "        __value = row[column]\n",
    "        __col_mapping = column_mapping[column]\n",
    "\n",
    "        if column == \"Member\":\n",
    "            item.labels.set('en', __value)\n",
    "            item.descriptions.set('en', 'A BDMA Team Member')\n",
    "            item.sitelinks.set('enwiki', __value)\n",
    "        elif column == \"Project\":\n",
    "            item.labels.set('en', __value)\n",
    "            item.descriptions.set('en', 'A BDMA Project')\n",
    "            item.sitelinks.set('enwiki', __value)\n",
    "        \n",
    "\n",
    "    item.write(login)\n",
    "        \n",
    "\n",
    "\n",
    "\n",
    "        # get the wikibase property\n",
    "\n"
   ]
  }
 ],
 "metadata": {
  "kernelspec": {
   "display_name": "Python 3.10.4 ('wikibase': conda)",
   "language": "python",
   "name": "python3"
  },
  "language_info": {
   "codemirror_mode": {
    "name": "ipython",
    "version": 3
   },
   "file_extension": ".py",
   "mimetype": "text/x-python",
   "name": "python",
   "nbconvert_exporter": "python",
   "pygments_lexer": "ipython3",
   "version": "3.10.4"
  },
  "vscode": {
   "interpreter": {
    "hash": "6c22d6f1796eae68ca5ff538193c965dfba0cad9bffc3b4e0ee17974b903305c"
   }
  }
 },
 "nbformat": 4,
 "nbformat_minor": 5
}
