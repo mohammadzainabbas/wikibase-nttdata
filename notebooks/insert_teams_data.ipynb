{
 "cells": [
  {
   "cell_type": "code",
   "execution_count": 1,
   "id": "9ef43b03-7605-465e-90b6-e02d86f56edb",
   "metadata": {},
   "outputs": [],
   "source": [
    "from wikibaseintegrator.models import Qualifiers, References, Reference\n",
    "from wikibaseintegrator import WikibaseIntegrator\n",
    "from wikibaseintegrator import wbi_login\n",
    "from wikibaseintegrator import datatypes\n",
    "from wikibaseintegrator.wbi_config import config as wbi_config\n",
    "from os.path import join, isfile, exists, isdir, abspath, pardir\n",
    "from os import listdir, getcwd\n",
    "import pandas as pd\n",
    "from wikibaseintegrator.datatypes import (URL, CommonsMedia, ExternalID, Form, GeoShape, GlobeCoordinate, Item, Lexeme, Math, MonolingualText, MusicalNotation, Property, Quantity, Sense, String, TabularData, Time)\n",
    "from wikibaseintegrator.wbi_enums import ActionIfExists, WikibaseDatePrecision, WikibaseRank, WikibaseSnakType\n",
    "from wikibaseintegrator.wbi_exceptions import MissingEntityException, ModificationFailed, MWApiError"
   ]
  },
  {
   "cell_type": "code",
   "execution_count": 2,
   "id": "1334018b-1b0d-4c5f-af1f-0fedbb61b5e0",
   "metadata": {},
   "outputs": [],
   "source": [
    "# Default variables\n",
    "WDUSER, WDPASS = \"Admin\", \"90J8XXXaO4Sr9^^Z\"\n",
    "# WDUSER, WDPASS = \"Mohammadzainabbas\", \"fHh!%shFa6^h\""
   ]
  },
  {
   "cell_type": "code",
   "execution_count": 3,
   "id": "3779edb8",
   "metadata": {},
   "outputs": [],
   "source": [
    "parent_dir = abspath(join(getcwd(), pardir))\n",
    "data_dir = join(parent_dir, \"data\")\n",
    "column_mapping = join(data_dir, \"column_mapping.csv\")\n",
    "project_mapping = join(data_dir, \"project_mapping.csv\")\n",
    "team_mapping = join(data_dir, \"team_mapping.csv\")"
   ]
  },
  {
   "cell_type": "code",
   "execution_count": 4,
   "id": "094b17a2-212a-43c4-bcf2-9b21f05a5d0f",
   "metadata": {},
   "outputs": [],
   "source": [
    "def setup_config():\n",
    "    \"\"\"\n",
    "    Set up WBI config to use local docker installation\n",
    "    \"\"\"\n",
    "    wbi_config['MEDIAWIKI_API_URL'] = 'http://139.144.66.193:8181/api.php'\n",
    "    wbi_config['SPARQL_ENDPOINT_URL'] = '\"http://139.144.66.193:8282/proxy/wdqs/bigdata/namespace/wdq/sparql\"'\n",
    "    wbi_config['WIKIBASE_URL'] = 'http://wikibase.svc'"
   ]
  },
  {
   "cell_type": "code",
   "execution_count": 5,
   "id": "01c04e6a-c475-4f01-8f82-2bd1e5d4523d",
   "metadata": {},
   "outputs": [],
   "source": [
    "setup_config()"
   ]
  },
  {
   "cell_type": "code",
   "execution_count": 6,
   "id": "8012c13a-2f8b-4205-8752-bb32c8f1538b",
   "metadata": {},
   "outputs": [
    {
     "name": "stderr",
     "output_type": "stream",
     "text": [
      "WARNING:root:MediaWiki login warnings messages:\n",
      "WARNING:root:* main: Subscribe to the mediawiki-api-announce mailing list at <https://lists.wikimedia.org/mailman/listinfo/mediawiki-api-announce> for notice of API deprecations and breaking changes.\n",
      "WARNING:root:* login: Main-account login via \"action=login\" is deprecated and may stop working without warning. To continue login with \"action=login\", see [[Special:BotPasswords]]. To safely continue using main-account login, see \"action=clientlogin\".\n"
     ]
    }
   ],
   "source": [
    "login = wbi_login.Login(user=WDUSER, password=WDPASS)"
   ]
  },
  {
   "cell_type": "code",
   "execution_count": 7,
   "id": "1c962b5b-aea4-474f-8081-86f80e146f83",
   "metadata": {},
   "outputs": [],
   "source": [
    "wbi = WikibaseIntegrator(login=login)"
   ]
  },
  {
   "cell_type": "code",
   "execution_count": 14,
   "id": "b9dc947d-e9c0-4448-b967-9f3afa9e5f8a",
   "metadata": {},
   "outputs": [
    {
     "data": {
      "text/html": [
       "<div>\n",
       "<style scoped>\n",
       "    .dataframe tbody tr th:only-of-type {\n",
       "        vertical-align: middle;\n",
       "    }\n",
       "\n",
       "    .dataframe tbody tr th {\n",
       "        vertical-align: top;\n",
       "    }\n",
       "\n",
       "    .dataframe thead th {\n",
       "        text-align: right;\n",
       "    }\n",
       "</style>\n",
       "<table border=\"1\" class=\"dataframe\">\n",
       "  <thead>\n",
       "    <tr style=\"text-align: right;\">\n",
       "      <th></th>\n",
       "      <th>column</th>\n",
       "      <th>prop</th>\n",
       "      <th>data_type</th>\n",
       "      <th>type</th>\n",
       "      <th>mapping_code</th>\n",
       "    </tr>\n",
       "  </thead>\n",
       "  <tbody>\n",
       "    <tr>\n",
       "      <th>0</th>\n",
       "      <td>Id</td>\n",
       "      <td>P1</td>\n",
       "      <td>string</td>\n",
       "      <td>internal</td>\n",
       "      <td>NaN</td>\n",
       "    </tr>\n",
       "    <tr>\n",
       "      <th>1</th>\n",
       "      <td>Name</td>\n",
       "      <td>P2</td>\n",
       "      <td>external-id</td>\n",
       "      <td>external</td>\n",
       "      <td>P735</td>\n",
       "    </tr>\n",
       "    <tr>\n",
       "      <th>2</th>\n",
       "      <td>Family Name</td>\n",
       "      <td>P3</td>\n",
       "      <td>external-id</td>\n",
       "      <td>external</td>\n",
       "      <td>P734</td>\n",
       "    </tr>\n",
       "    <tr>\n",
       "      <th>3</th>\n",
       "      <td>Birthdate</td>\n",
       "      <td>P4</td>\n",
       "      <td>external-id</td>\n",
       "      <td>external</td>\n",
       "      <td>P569</td>\n",
       "    </tr>\n",
       "    <tr>\n",
       "      <th>4</th>\n",
       "      <td>Nationality</td>\n",
       "      <td>P5</td>\n",
       "      <td>external-id</td>\n",
       "      <td>external</td>\n",
       "      <td>P27</td>\n",
       "    </tr>\n",
       "  </tbody>\n",
       "</table>\n",
       "</div>"
      ],
      "text/plain": [
       "        column prop    data_type      type mapping_code\n",
       "0           Id   P1       string  internal          NaN\n",
       "1         Name   P2  external-id  external         P735\n",
       "2  Family Name   P3  external-id  external         P734\n",
       "3    Birthdate   P4  external-id  external         P569\n",
       "4  Nationality   P5  external-id  external          P27"
      ]
     },
     "execution_count": 14,
     "metadata": {},
     "output_type": "execute_result"
    }
   ],
   "source": [
    "df = pd.read_csv(column_mapping)\n",
    "df.head()"
   ]
  },
  {
   "cell_type": "code",
   "execution_count": 18,
   "id": "aa920ff6",
   "metadata": {},
   "outputs": [],
   "source": [
    "column_mapping = df.set_index(\"column\").T.to_dict()"
   ]
  },
  {
   "cell_type": "code",
   "execution_count": 21,
   "id": "10185833",
   "metadata": {},
   "outputs": [
    {
     "data": {
      "text/plain": [
       "{'prop': 'P18',\n",
       " 'data_type': 'external-id',\n",
       " 'type': 'external',\n",
       " 'mapping_code': 'P582'}"
      ]
     },
     "execution_count": 21,
     "metadata": {},
     "output_type": "execute_result"
    }
   ],
   "source": [
    "column_mapping['Project End date']"
   ]
  },
  {
   "cell_type": "code",
   "execution_count": null,
   "id": "29dc0a2d",
   "metadata": {},
   "outputs": [],
   "source": []
  }
 ],
 "metadata": {
  "kernelspec": {
   "display_name": "Python 3.10.4 ('wikibase': conda)",
   "language": "python",
   "name": "python3"
  },
  "language_info": {
   "codemirror_mode": {
    "name": "ipython",
    "version": 3
   },
   "file_extension": ".py",
   "mimetype": "text/x-python",
   "name": "python",
   "nbconvert_exporter": "python",
   "pygments_lexer": "ipython3",
   "version": "3.10.4"
  },
  "vscode": {
   "interpreter": {
    "hash": "6c22d6f1796eae68ca5ff538193c965dfba0cad9bffc3b4e0ee17974b903305c"
   }
  }
 },
 "nbformat": 4,
 "nbformat_minor": 5
}
