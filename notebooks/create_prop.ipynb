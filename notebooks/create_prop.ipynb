{
 "cells": [
  {
   "cell_type": "code",
   "execution_count": 1,
   "id": "9ef43b03-7605-465e-90b6-e02d86f56edb",
   "metadata": {},
   "outputs": [],
   "source": [
    "from wikibaseintegrator.models import Qualifiers, References, Reference\n",
    "from wikibaseintegrator import WikibaseIntegrator\n",
    "from wikibaseintegrator import wbi_login\n",
    "from wikibaseintegrator import datatypes\n",
    "from wikibaseintegrator.wbi_config import config as wbi_config"
   ]
  },
  {
   "cell_type": "code",
   "execution_count": 2,
   "id": "094b17a2-212a-43c4-bcf2-9b21f05a5d0f",
   "metadata": {},
   "outputs": [],
   "source": [
    "def setup_config():\n",
    "    \"\"\"\n",
    "    Set up WBI config to use local docker installation\n",
    "    \"\"\"\n",
    "    wbi_config['MEDIAWIKI_API_URL'] = 'http://139.144.66.193:8181/api.php'\n",
    "    wbi_config['SPARQL_ENDPOINT_URL'] = '\"http://139.144.66.193:8282/proxy/wdqs/bigdata/namespace/wdq/sparql\"'\n",
    "    wbi_config['WIKIBASE_URL'] = 'http://wikibase.svc'"
   ]
  },
  {
   "cell_type": "code",
   "execution_count": 3,
   "id": "01c04e6a-c475-4f01-8f82-2bd1e5d4523d",
   "metadata": {},
   "outputs": [],
   "source": [
    "setup_config()"
   ]
  },
  {
   "cell_type": "code",
   "execution_count": 4,
   "id": "1334018b-1b0d-4c5f-af1f-0fedbb61b5e0",
   "metadata": {},
   "outputs": [],
   "source": [
    "# Default variables\n",
    "WDUSER, WDPASS = \"Admin\", \"90J8XXXaO4Sr9^^Z\"\n",
    "# WDUSER, WDPASS = \"Mohammadzainabbas\", \"fHh!%shFa6^h\""
   ]
  },
  {
   "cell_type": "code",
   "execution_count": 5,
   "id": "8012c13a-2f8b-4205-8752-bb32c8f1538b",
   "metadata": {},
   "outputs": [
    {
     "name": "stderr",
     "output_type": "stream",
     "text": [
      "WARNING:root:MediaWiki login warnings messages:\n",
      "WARNING:root:* main: Subscribe to the mediawiki-api-announce mailing list at <https://lists.wikimedia.org/mailman/listinfo/mediawiki-api-announce> for notice of API deprecations and breaking changes.\n",
      "WARNING:root:* login: Main-account login via \"action=login\" is deprecated and may stop working without warning. To continue login with \"action=login\", see [[Special:BotPasswords]]. To safely continue using main-account login, see \"action=clientlogin\".\n"
     ]
    }
   ],
   "source": [
    "login = wbi_login.Login(user=WDUSER, password=WDPASS)"
   ]
  },
  {
   "cell_type": "code",
   "execution_count": 6,
   "id": "1c962b5b-aea4-474f-8081-86f80e146f83",
   "metadata": {},
   "outputs": [],
   "source": [
    "wbi = WikibaseIntegrator(login=login)"
   ]
  },
  {
   "cell_type": "code",
   "execution_count": 7,
   "id": "b9dc947d-e9c0-4448-b967-9f3afa9e5f8a",
   "metadata": {},
   "outputs": [],
   "source": [
    "p = wbi.property.new()"
   ]
  },
  {
   "cell_type": "code",
   "execution_count": 12,
   "id": "29ce5007-9177-4e7d-976f-0229ec46f189",
   "metadata": {},
   "outputs": [
    {
     "data": {
      "text/plain": [
       "['ETYPE',\n",
       " '_BaseEntity__api',\n",
       " '_BaseEntity__claims',\n",
       " '_BaseEntity__id',\n",
       " '_BaseEntity__lastrevid',\n",
       " '_BaseEntity__pageid',\n",
       " '_BaseEntity__title',\n",
       " '_BaseEntity__type',\n",
       " '_PropertyEntity__aliases',\n",
       " '_PropertyEntity__datatype',\n",
       " '_PropertyEntity__descriptions',\n",
       " '_PropertyEntity__labels',\n",
       " '__class__',\n",
       " '__delattr__',\n",
       " '__dict__',\n",
       " '__dir__',\n",
       " '__doc__',\n",
       " '__eq__',\n",
       " '__format__',\n",
       " '__ge__',\n",
       " '__getattribute__',\n",
       " '__gt__',\n",
       " '__hash__',\n",
       " '__init__',\n",
       " '__init_subclass__',\n",
       " '__le__',\n",
       " '__lt__',\n",
       " '__module__',\n",
       " '__ne__',\n",
       " '__new__',\n",
       " '__reduce__',\n",
       " '__reduce_ex__',\n",
       " '__repr__',\n",
       " '__setattr__',\n",
       " '__sizeof__',\n",
       " '__str__',\n",
       " '__subclasshook__',\n",
       " '__weakref__',\n",
       " '_get',\n",
       " '_write',\n",
       " 'add_claims',\n",
       " 'aliases',\n",
       " 'api',\n",
       " 'claims',\n",
       " 'clear',\n",
       " 'datatype',\n",
       " 'delete',\n",
       " 'descriptions',\n",
       " 'from_json',\n",
       " 'get',\n",
       " 'get_json',\n",
       " 'id',\n",
       " 'labels',\n",
       " 'lastrevid',\n",
       " 'new',\n",
       " 'pageid',\n",
       " 'title',\n",
       " 'type',\n",
       " 'write',\n",
       " 'write_required']"
      ]
     },
     "execution_count": 12,
     "metadata": {},
     "output_type": "execute_result"
    }
   ],
   "source": [
    "dir(p)"
   ]
  },
  {
   "cell_type": "code",
   "execution_count": 11,
   "id": "0e9cb978-9254-4f22-94c7-219de2a0556d",
   "metadata": {},
   "outputs": [
    {
     "ename": "AttributeError",
     "evalue": "'PropertyEntity' object has no attribute 'description'",
     "output_type": "error",
     "traceback": [
      "\u001b[0;31m---------------------------------------------------------------------------\u001b[0m",
      "\u001b[0;31mAttributeError\u001b[0m                            Traceback (most recent call last)",
      "Input \u001b[0;32mIn [11]\u001b[0m, in \u001b[0;36m<cell line: 2>\u001b[0;34m()\u001b[0m\n\u001b[1;32m      1\u001b[0m p\u001b[38;5;241m.\u001b[39mlabels\u001b[38;5;241m.\u001b[39mset(\u001b[38;5;124m'\u001b[39m\u001b[38;5;124men\u001b[39m\u001b[38;5;124m'\u001b[39m, \u001b[38;5;124m'\u001b[39m\u001b[38;5;124mNew prop\u001b[39m\u001b[38;5;124m'\u001b[39m)\n\u001b[0;32m----> 2\u001b[0m \u001b[43mp\u001b[49m\u001b[38;5;241;43m.\u001b[39;49m\u001b[43mdescription\u001b[49m\u001b[38;5;241m.\u001b[39mset(\u001b[38;5;124m'\u001b[39m\u001b[38;5;124men\u001b[39m\u001b[38;5;124m'\u001b[39m, \u001b[38;5;124m'\u001b[39m\u001b[38;5;124mA very neww prop\u001b[39m\u001b[38;5;124m'\u001b[39m)\n",
      "\u001b[0;31mAttributeError\u001b[0m: 'PropertyEntity' object has no attribute 'description'"
     ]
    }
   ],
   "source": [
    "p.labels.set('en', 'New prop')\n",
    "p.description.set('en', 'A very neww prop')"
   ]
  },
  {
   "cell_type": "code",
   "execution_count": 10,
   "id": "a1abc273-24c9-4d48-842b-6da11f6349d9",
   "metadata": {},
   "outputs": [
    {
     "name": "stderr",
     "output_type": "stream",
     "text": [
      "ERROR:root:Error while writing to the Wikibase instance\n",
      "Traceback (most recent call last):\n",
      "  File \"/root/anaconda3/envs/wikibase/lib/python3.10/site-packages/wikibaseintegrator/entities/baseentity.py\", line 255, in _write\n",
      "    json_result: dict = mediawiki_api_call_helper(data=payload, login=login, allow_anonymous=allow_anonymous, is_bot=is_bot, **kwargs)\n",
      "  File \"/root/anaconda3/envs/wikibase/lib/python3.10/site-packages/wikibaseintegrator/wbi_helpers.py\", line 211, in mediawiki_api_call_helper\n",
      "    return mediawiki_api_call('POST', mediawiki_api_url=mediawiki_api_url, session=session, data=data, headers=headers, max_retries=max_retries, retry_after=retry_after, **kwargs)\n",
      "  File \"/root/anaconda3/envs/wikibase/lib/python3.10/site-packages/wikibaseintegrator/wbi_helpers.py\", line 125, in mediawiki_api_call\n",
      "    raise MWApiError(json_data)\n",
      "  File \"/root/anaconda3/envs/wikibase/lib/python3.10/site-packages/wikibaseintegrator/wbi_exceptions.py\", line 44, in __init__\n",
      "    super().__init__(error_dict['info'])\n",
      "KeyError: 'info'\n"
     ]
    },
    {
     "ename": "KeyError",
     "evalue": "'info'",
     "output_type": "error",
     "traceback": [
      "\u001b[0;31m---------------------------------------------------------------------------\u001b[0m",
      "\u001b[0;31mKeyError\u001b[0m                                  Traceback (most recent call last)",
      "Input \u001b[0;32mIn [10]\u001b[0m, in \u001b[0;36m<cell line: 1>\u001b[0;34m()\u001b[0m\n\u001b[0;32m----> 1\u001b[0m \u001b[43mp\u001b[49m\u001b[38;5;241;43m.\u001b[39;49m\u001b[43mwrite\u001b[49m\u001b[43m(\u001b[49m\u001b[43m)\u001b[49m\n",
      "File \u001b[0;32m~/anaconda3/envs/wikibase/lib/python3.10/site-packages/wikibaseintegrator/entities/property.py:125\u001b[0m, in \u001b[0;36mPropertyEntity.write\u001b[0;34m(self, **kwargs)\u001b[0m\n\u001b[1;32m    112\u001b[0m \u001b[38;5;28;01mdef\u001b[39;00m \u001b[38;5;21mwrite\u001b[39m(\u001b[38;5;28mself\u001b[39m, \u001b[38;5;241m*\u001b[39m\u001b[38;5;241m*\u001b[39mkwargs: Any) \u001b[38;5;241m-\u001b[39m\u001b[38;5;241m>\u001b[39m PropertyEntity:\n\u001b[1;32m    113\u001b[0m     \u001b[38;5;124;03m\"\"\"\u001b[39;00m\n\u001b[1;32m    114\u001b[0m \u001b[38;5;124;03m    Write the PropertyEntity data to the Wikibase instance and return the PropertyEntity object returned by the instance.\u001b[39;00m\n\u001b[1;32m    115\u001b[0m \n\u001b[0;32m   (...)\u001b[0m\n\u001b[1;32m    123\u001b[0m \u001b[38;5;124;03m    :return: an PropertyEntity of the response from the instance\u001b[39;00m\n\u001b[1;32m    124\u001b[0m \u001b[38;5;124;03m    \"\"\"\u001b[39;00m\n\u001b[0;32m--> 125\u001b[0m     json_data \u001b[38;5;241m=\u001b[39m \u001b[38;5;28;43msuper\u001b[39;49m\u001b[43m(\u001b[49m\u001b[43m)\u001b[49m\u001b[38;5;241;43m.\u001b[39;49m\u001b[43m_write\u001b[49m\u001b[43m(\u001b[49m\u001b[43mdata\u001b[49m\u001b[38;5;241;43m=\u001b[39;49m\u001b[38;5;28;43mself\u001b[39;49m\u001b[38;5;241;43m.\u001b[39;49m\u001b[43mget_json\u001b[49m\u001b[43m(\u001b[49m\u001b[43m)\u001b[49m\u001b[43m,\u001b[49m\u001b[43m \u001b[49m\u001b[38;5;241;43m*\u001b[39;49m\u001b[38;5;241;43m*\u001b[39;49m\u001b[43mkwargs\u001b[49m\u001b[43m)\u001b[49m\n\u001b[1;32m    126\u001b[0m     \u001b[38;5;28;01mreturn\u001b[39;00m \u001b[38;5;28mself\u001b[39m\u001b[38;5;241m.\u001b[39mfrom_json(json_data\u001b[38;5;241m=\u001b[39mjson_data)\n",
      "File \u001b[0;32m~/anaconda3/envs/wikibase/lib/python3.10/site-packages/wikibaseintegrator/entities/baseentity.py:255\u001b[0m, in \u001b[0;36mBaseEntity._write\u001b[0;34m(self, data, summary, login, allow_anonymous, clear, is_bot, **kwargs)\u001b[0m\n\u001b[1;32m    252\u001b[0m login \u001b[38;5;241m=\u001b[39m login \u001b[38;5;129;01mor\u001b[39;00m \u001b[38;5;28mself\u001b[39m\u001b[38;5;241m.\u001b[39mapi\u001b[38;5;241m.\u001b[39mlogin\n\u001b[1;32m    254\u001b[0m \u001b[38;5;28;01mtry\u001b[39;00m:\n\u001b[0;32m--> 255\u001b[0m     json_result: \u001b[38;5;28mdict\u001b[39m \u001b[38;5;241m=\u001b[39m \u001b[43mmediawiki_api_call_helper\u001b[49m\u001b[43m(\u001b[49m\u001b[43mdata\u001b[49m\u001b[38;5;241;43m=\u001b[39;49m\u001b[43mpayload\u001b[49m\u001b[43m,\u001b[49m\u001b[43m \u001b[49m\u001b[43mlogin\u001b[49m\u001b[38;5;241;43m=\u001b[39;49m\u001b[43mlogin\u001b[49m\u001b[43m,\u001b[49m\u001b[43m \u001b[49m\u001b[43mallow_anonymous\u001b[49m\u001b[38;5;241;43m=\u001b[39;49m\u001b[43mallow_anonymous\u001b[49m\u001b[43m,\u001b[49m\u001b[43m \u001b[49m\u001b[43mis_bot\u001b[49m\u001b[38;5;241;43m=\u001b[39;49m\u001b[43mis_bot\u001b[49m\u001b[43m,\u001b[49m\u001b[43m \u001b[49m\u001b[38;5;241;43m*\u001b[39;49m\u001b[38;5;241;43m*\u001b[39;49m\u001b[43mkwargs\u001b[49m\u001b[43m)\u001b[49m\n\u001b[1;32m    256\u001b[0m \u001b[38;5;28;01mexcept\u001b[39;00m \u001b[38;5;167;01mException\u001b[39;00m:\n\u001b[1;32m    257\u001b[0m     logging\u001b[38;5;241m.\u001b[39mexception(\u001b[38;5;124m'\u001b[39m\u001b[38;5;124mError while writing to the Wikibase instance\u001b[39m\u001b[38;5;124m'\u001b[39m)\n",
      "File \u001b[0;32m~/anaconda3/envs/wikibase/lib/python3.10/site-packages/wikibaseintegrator/wbi_helpers.py:211\u001b[0m, in \u001b[0;36mmediawiki_api_call_helper\u001b[0;34m(data, login, mediawiki_api_url, user_agent, allow_anonymous, max_retries, retry_after, maxlag, is_bot, **kwargs)\u001b[0m\n\u001b[1;32m    207\u001b[0m     session \u001b[38;5;241m=\u001b[39m \u001b[38;5;28;01mNone\u001b[39;00m\n\u001b[1;32m    209\u001b[0m log\u001b[38;5;241m.\u001b[39mdebug(data)\n\u001b[0;32m--> 211\u001b[0m \u001b[38;5;28;01mreturn\u001b[39;00m \u001b[43mmediawiki_api_call\u001b[49m\u001b[43m(\u001b[49m\u001b[38;5;124;43m'\u001b[39;49m\u001b[38;5;124;43mPOST\u001b[39;49m\u001b[38;5;124;43m'\u001b[39;49m\u001b[43m,\u001b[49m\u001b[43m \u001b[49m\u001b[43mmediawiki_api_url\u001b[49m\u001b[38;5;241;43m=\u001b[39;49m\u001b[43mmediawiki_api_url\u001b[49m\u001b[43m,\u001b[49m\u001b[43m \u001b[49m\u001b[43msession\u001b[49m\u001b[38;5;241;43m=\u001b[39;49m\u001b[43msession\u001b[49m\u001b[43m,\u001b[49m\u001b[43m \u001b[49m\u001b[43mdata\u001b[49m\u001b[38;5;241;43m=\u001b[39;49m\u001b[43mdata\u001b[49m\u001b[43m,\u001b[49m\u001b[43m \u001b[49m\u001b[43mheaders\u001b[49m\u001b[38;5;241;43m=\u001b[39;49m\u001b[43mheaders\u001b[49m\u001b[43m,\u001b[49m\u001b[43m \u001b[49m\u001b[43mmax_retries\u001b[49m\u001b[38;5;241;43m=\u001b[39;49m\u001b[43mmax_retries\u001b[49m\u001b[43m,\u001b[49m\u001b[43m \u001b[49m\u001b[43mretry_after\u001b[49m\u001b[38;5;241;43m=\u001b[39;49m\u001b[43mretry_after\u001b[49m\u001b[43m,\u001b[49m\u001b[43m \u001b[49m\u001b[38;5;241;43m*\u001b[39;49m\u001b[38;5;241;43m*\u001b[39;49m\u001b[43mkwargs\u001b[49m\u001b[43m)\u001b[49m\n",
      "File \u001b[0;32m~/anaconda3/envs/wikibase/lib/python3.10/site-packages/wikibaseintegrator/wbi_helpers.py:125\u001b[0m, in \u001b[0;36mmediawiki_api_call\u001b[0;34m(method, mediawiki_api_url, session, max_retries, retry_after, **kwargs)\u001b[0m\n\u001b[1;32m    122\u001b[0m         \u001b[38;5;28;01mraise\u001b[39;00m ModificationFailed(json_data[\u001b[38;5;124m'\u001b[39m\u001b[38;5;124merror\u001b[39m\u001b[38;5;124m'\u001b[39m])\n\u001b[1;32m    124\u001b[0m     \u001b[38;5;66;03m# others case\u001b[39;00m\n\u001b[0;32m--> 125\u001b[0m     \u001b[38;5;28;01mraise\u001b[39;00m \u001b[43mMWApiError\u001b[49m\u001b[43m(\u001b[49m\u001b[43mjson_data\u001b[49m\u001b[43m)\u001b[49m\n\u001b[1;32m    127\u001b[0m \u001b[38;5;66;03m# there is no error or waiting. break out of this loop and parse response\u001b[39;00m\n\u001b[1;32m    128\u001b[0m \u001b[38;5;28;01mbreak\u001b[39;00m\n",
      "File \u001b[0;32m~/anaconda3/envs/wikibase/lib/python3.10/site-packages/wikibaseintegrator/wbi_exceptions.py:44\u001b[0m, in \u001b[0;36mMWApiError.__init__\u001b[0;34m(self, error_dict)\u001b[0m\n\u001b[1;32m     43\u001b[0m \u001b[38;5;28;01mdef\u001b[39;00m \u001b[38;5;21m__init__\u001b[39m(\u001b[38;5;28mself\u001b[39m, error_dict: Dict[\u001b[38;5;28mstr\u001b[39m, Any]):\n\u001b[0;32m---> 44\u001b[0m     \u001b[38;5;28msuper\u001b[39m()\u001b[38;5;241m.\u001b[39m\u001b[38;5;21m__init__\u001b[39m(\u001b[43merror_dict\u001b[49m\u001b[43m[\u001b[49m\u001b[38;5;124;43m'\u001b[39;49m\u001b[38;5;124;43minfo\u001b[39;49m\u001b[38;5;124;43m'\u001b[39;49m\u001b[43m]\u001b[49m)\n\u001b[1;32m     45\u001b[0m     \u001b[38;5;28mself\u001b[39m\u001b[38;5;241m.\u001b[39mcode \u001b[38;5;241m=\u001b[39m error_dict[\u001b[38;5;124m'\u001b[39m\u001b[38;5;124mcode\u001b[39m\u001b[38;5;124m'\u001b[39m]\n\u001b[1;32m     46\u001b[0m     \u001b[38;5;28mself\u001b[39m\u001b[38;5;241m.\u001b[39minfo \u001b[38;5;241m=\u001b[39m error_dict[\u001b[38;5;124m'\u001b[39m\u001b[38;5;124minfo\u001b[39m\u001b[38;5;124m'\u001b[39m]\n",
      "\u001b[0;31mKeyError\u001b[0m: 'info'"
     ]
    }
   ],
   "source": [
    "p.write()"
   ]
  },
  {
   "cell_type": "code",
   "execution_count": null,
   "id": "bc94ee45-a3fa-4eef-9955-13841aa17636",
   "metadata": {},
   "outputs": [],
   "source": []
  }
 ],
 "metadata": {
  "kernelspec": {
   "display_name": "Py Wikibase",
   "language": "python",
   "name": "wikibase"
  },
  "language_info": {
   "codemirror_mode": {
    "name": "ipython",
    "version": 3
   },
   "file_extension": ".py",
   "mimetype": "text/x-python",
   "name": "python",
   "nbconvert_exporter": "python",
   "pygments_lexer": "ipython3",
   "version": "3.10.4"
  }
 },
 "nbformat": 4,
 "nbformat_minor": 5
}
