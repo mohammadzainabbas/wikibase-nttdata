{
 "cells": [
  {
   "cell_type": "code",
   "execution_count": 14,
   "id": "9ef43b03-7605-465e-90b6-e02d86f56edb",
   "metadata": {},
   "outputs": [],
   "source": [
    "from wikibaseintegrator.models import Qualifiers, References, Reference\n",
    "from wikibaseintegrator import WikibaseIntegrator\n",
    "from wikibaseintegrator import wbi_login\n",
    "from wikibaseintegrator import datatypes\n",
    "from wikibaseintegrator.wbi_config import config as wbi_config\n",
    "from os.path import join, isfile, exists, isdir, abspath, pardir\n",
    "from os import listdir, getcwd\n",
    "import pandas as pd"
   ]
  },
  {
   "cell_type": "code",
   "execution_count": 4,
   "id": "1334018b-1b0d-4c5f-af1f-0fedbb61b5e0",
   "metadata": {},
   "outputs": [],
   "source": [
    "# Default variables\n",
    "WDUSER, WDPASS = \"Admin\", \"90J8XXXaO4Sr9^^Z\"\n",
    "# WDUSER, WDPASS = \"Mohammadzainabbas\", \"fHh!%shFa6^h\""
   ]
  },
  {
   "cell_type": "code",
   "execution_count": 13,
   "id": "3779edb8",
   "metadata": {},
   "outputs": [],
   "source": [
    "parent_dir = abspath(join(getcwd(), pardir))\n",
    "data_dir = join(parent_dir, \"data\")\n",
    "team_data = join(data_dir, \"BDMA_Team_v1.csv\")\n",
    "project_data = join(data_dir, \"BDMA_Projects_v1.csv\")"
   ]
  },
  {
   "cell_type": "code",
   "execution_count": 2,
   "id": "094b17a2-212a-43c4-bcf2-9b21f05a5d0f",
   "metadata": {},
   "outputs": [],
   "source": [
    "def setup_config():\n",
    "    \"\"\"\n",
    "    Set up WBI config to use local docker installation\n",
    "    \"\"\"\n",
    "    wbi_config['MEDIAWIKI_API_URL'] = 'http://139.144.66.193:8181/api.php'\n",
    "    wbi_config['SPARQL_ENDPOINT_URL'] = '\"http://139.144.66.193:8282/proxy/wdqs/bigdata/namespace/wdq/sparql\"'\n",
    "    wbi_config['WIKIBASE_URL'] = 'http://wikibase.svc'"
   ]
  },
  {
   "cell_type": "code",
   "execution_count": 3,
   "id": "01c04e6a-c475-4f01-8f82-2bd1e5d4523d",
   "metadata": {},
   "outputs": [],
   "source": [
    "setup_config()"
   ]
  },
  {
   "cell_type": "code",
   "execution_count": 5,
   "id": "8012c13a-2f8b-4205-8752-bb32c8f1538b",
   "metadata": {},
   "outputs": [
    {
     "name": "stderr",
     "output_type": "stream",
     "text": [
      "WARNING:root:MediaWiki login warnings messages:\n",
      "WARNING:root:* main: Subscribe to the mediawiki-api-announce mailing list at <https://lists.wikimedia.org/mailman/listinfo/mediawiki-api-announce> for notice of API deprecations and breaking changes.\n",
      "WARNING:root:* login: Main-account login via \"action=login\" is deprecated and may stop working without warning. To continue login with \"action=login\", see [[Special:BotPasswords]]. To safely continue using main-account login, see \"action=clientlogin\".\n"
     ]
    }
   ],
   "source": [
    "login = wbi_login.Login(user=WDUSER, password=WDPASS)"
   ]
  },
  {
   "cell_type": "code",
   "execution_count": 6,
   "id": "1c962b5b-aea4-474f-8081-86f80e146f83",
   "metadata": {},
   "outputs": [],
   "source": [
    "wbi = WikibaseIntegrator(login=login)"
   ]
  },
  {
   "cell_type": "code",
   "execution_count": 16,
   "id": "b9dc947d-e9c0-4448-b967-9f3afa9e5f8a",
   "metadata": {},
   "outputs": [
    {
     "data": {
      "text/html": [
       "<div>\n",
       "<style scoped>\n",
       "    .dataframe tbody tr th:only-of-type {\n",
       "        vertical-align: middle;\n",
       "    }\n",
       "\n",
       "    .dataframe tbody tr th {\n",
       "        vertical-align: top;\n",
       "    }\n",
       "\n",
       "    .dataframe thead th {\n",
       "        text-align: right;\n",
       "    }\n",
       "</style>\n",
       "<table border=\"1\" class=\"dataframe\">\n",
       "  <thead>\n",
       "    <tr style=\"text-align: right;\">\n",
       "      <th></th>\n",
       "      <th>Id</th>\n",
       "      <th>Name</th>\n",
       "      <th>Family Name</th>\n",
       "      <th>Birthdate</th>\n",
       "      <th>Nationality</th>\n",
       "      <th>Category</th>\n",
       "      <th>Start date</th>\n",
       "      <th>End date</th>\n",
       "    </tr>\n",
       "  </thead>\n",
       "  <tbody>\n",
       "    <tr>\n",
       "      <th>0</th>\n",
       "      <td>S000001</td>\n",
       "      <td>Mohammad Zain</td>\n",
       "      <td>Abbas</td>\n",
       "      <td>09/05/1995</td>\n",
       "      <td>Pakistani</td>\n",
       "      <td>SK-N3</td>\n",
       "      <td>19/07/2022</td>\n",
       "      <td>06/09/2022</td>\n",
       "    </tr>\n",
       "    <tr>\n",
       "      <th>1</th>\n",
       "      <td>S000002</td>\n",
       "      <td>Kainaat</td>\n",
       "      <td>Amjid</td>\n",
       "      <td>30/12/1996</td>\n",
       "      <td>Pakistani</td>\n",
       "      <td>SK-N1</td>\n",
       "      <td>19/07/2022</td>\n",
       "      <td>13/09/2022</td>\n",
       "    </tr>\n",
       "    <tr>\n",
       "      <th>2</th>\n",
       "      <td>S000003</td>\n",
       "      <td>Sergio</td>\n",
       "      <td>Postigo</td>\n",
       "      <td>12/02/1996</td>\n",
       "      <td>Peru</td>\n",
       "      <td>SK-N2</td>\n",
       "      <td>26/07/2022</td>\n",
       "      <td>13/10/2022</td>\n",
       "    </tr>\n",
       "    <tr>\n",
       "      <th>3</th>\n",
       "      <td>S000004</td>\n",
       "      <td>Emmanuel</td>\n",
       "      <td>Jamin</td>\n",
       "      <td>28/09/1978</td>\n",
       "      <td>French</td>\n",
       "      <td>SKL-N2</td>\n",
       "      <td>10/01/2015</td>\n",
       "      <td>11/01/2015</td>\n",
       "    </tr>\n",
       "  </tbody>\n",
       "</table>\n",
       "</div>"
      ],
      "text/plain": [
       "        Id           Name Family Name   Birthdate Nationality Category  \\\n",
       "0  S000001  Mohammad Zain       Abbas  09/05/1995   Pakistani    SK-N3   \n",
       "1  S000002        Kainaat       Amjid  30/12/1996   Pakistani    SK-N1   \n",
       "2  S000003         Sergio     Postigo  12/02/1996        Peru    SK-N2   \n",
       "3  S000004       Emmanuel       Jamin  28/09/1978      French   SKL-N2   \n",
       "\n",
       "   Start date    End date  \n",
       "0  19/07/2022  06/09/2022  \n",
       "1  19/07/2022  13/09/2022  \n",
       "2  26/07/2022  13/10/2022  \n",
       "3  10/01/2015  11/01/2015  "
      ]
     },
     "execution_count": 16,
     "metadata": {},
     "output_type": "execute_result"
    }
   ],
   "source": [
    "df = pd.read_csv(team_data)\n",
    "df.head()"
   ]
  },
  {
   "cell_type": "code",
   "execution_count": 20,
   "id": "10185833",
   "metadata": {},
   "outputs": [
    {
     "data": {
      "text/plain": [
       "['Id',\n",
       " 'Name',\n",
       " 'Family Name',\n",
       " 'Birthdate',\n",
       " 'Nationality',\n",
       " 'Category',\n",
       " 'Start date',\n",
       " 'End date']"
      ]
     },
     "execution_count": 20,
     "metadata": {},
     "output_type": "execute_result"
    }
   ],
   "source": [
    "column_names = df.columns.to_list()"
   ]
  },
  {
   "cell_type": "code",
   "execution_count": 22,
   "id": "f06af458",
   "metadata": {},
   "outputs": [
    {
     "data": {
      "text/html": [
       "<div>\n",
       "<style scoped>\n",
       "    .dataframe tbody tr th:only-of-type {\n",
       "        vertical-align: middle;\n",
       "    }\n",
       "\n",
       "    .dataframe tbody tr th {\n",
       "        vertical-align: top;\n",
       "    }\n",
       "\n",
       "    .dataframe thead th {\n",
       "        text-align: right;\n",
       "    }\n",
       "</style>\n",
       "<table border=\"1\" class=\"dataframe\">\n",
       "  <thead>\n",
       "    <tr style=\"text-align: right;\">\n",
       "      <th></th>\n",
       "      <th>column</th>\n",
       "      <th>prop_type</th>\n",
       "      <th>type</th>\n",
       "      <th>mapping_code</th>\n",
       "    </tr>\n",
       "  </thead>\n",
       "  <tbody>\n",
       "    <tr>\n",
       "      <th>0</th>\n",
       "      <td>Id</td>\n",
       "      <td>num</td>\n",
       "      <td>internal</td>\n",
       "      <td>NaN</td>\n",
       "    </tr>\n",
       "    <tr>\n",
       "      <th>1</th>\n",
       "      <td>Name</td>\n",
       "      <td>str</td>\n",
       "      <td>external</td>\n",
       "      <td>P735</td>\n",
       "    </tr>\n",
       "    <tr>\n",
       "      <th>2</th>\n",
       "      <td>Family Name</td>\n",
       "      <td>str</td>\n",
       "      <td>external</td>\n",
       "      <td>P734</td>\n",
       "    </tr>\n",
       "    <tr>\n",
       "      <th>3</th>\n",
       "      <td>Birthdate</td>\n",
       "      <td>date</td>\n",
       "      <td>external</td>\n",
       "      <td>P569</td>\n",
       "    </tr>\n",
       "    <tr>\n",
       "      <th>4</th>\n",
       "      <td>Nationality</td>\n",
       "      <td>str</td>\n",
       "      <td>external</td>\n",
       "      <td>P27</td>\n",
       "    </tr>\n",
       "  </tbody>\n",
       "</table>\n",
       "</div>"
      ],
      "text/plain": [
       "        column prop_type      type mapping_code\n",
       "0           Id       num  internal          NaN\n",
       "1         Name       str  external         P735\n",
       "2  Family Name       str  external         P734\n",
       "3    Birthdate      date  external         P569\n",
       "4  Nationality       str  external          P27"
      ]
     },
     "execution_count": 22,
     "metadata": {},
     "output_type": "execute_result"
    }
   ],
   "source": [
    "team_mapping = join(data_dir, \"team_mapping.csv\")\n",
    "map_df = pd.read_csv(team_mapping)\n",
    "map_df.head()"
   ]
  },
  {
   "cell_type": "code",
   "execution_count": 28,
   "id": "11611bbd",
   "metadata": {},
   "outputs": [],
   "source": [
    "columns_with_mappings = list(map_df.T.to_dict().values())"
   ]
  },
  {
   "cell_type": "code",
   "execution_count": 29,
   "id": "bcae7e4e",
   "metadata": {},
   "outputs": [
    {
     "data": {
      "text/plain": [
       "{'column': 'Id', 'prop_type': 'num', 'type': 'internal', 'mapping_code': nan}"
      ]
     },
     "execution_count": 29,
     "metadata": {},
     "output_type": "execute_result"
    }
   ],
   "source": [
    "columns_with_mappings[0]"
   ]
  },
  {
   "cell_type": "code",
   "execution_count": null,
   "id": "640b25ac",
   "metadata": {},
   "outputs": [],
   "source": [
    "for item in columns_with_mappings:\n",
    "    col_name = item['column']\n",
    "    prop_type = item['prop_type']\n",
    "    "
   ]
  }
 ],
 "metadata": {
  "kernelspec": {
   "display_name": "Python 3.10.4 ('wikibase': conda)",
   "language": "python",
   "name": "python3"
  },
  "language_info": {
   "codemirror_mode": {
    "name": "ipython",
    "version": 3
   },
   "file_extension": ".py",
   "mimetype": "text/x-python",
   "name": "python",
   "nbconvert_exporter": "python",
   "pygments_lexer": "ipython3",
   "version": "3.10.4"
  },
  "vscode": {
   "interpreter": {
    "hash": "6c22d6f1796eae68ca5ff538193c965dfba0cad9bffc3b4e0ee17974b903305c"
   }
  }
 },
 "nbformat": 4,
 "nbformat_minor": 5
}
