{
 "cells": [
  {
   "cell_type": "code",
   "execution_count": null,
   "id": "9ef43b03-7605-465e-90b6-e02d86f56edb",
   "metadata": {},
   "outputs": [],
   "source": [
    "from wikibaseintegrator.models import Qualifiers, References, Reference\n",
    "from wikibaseintegrator import WikibaseIntegrator\n",
    "from wikibaseintegrator import wbi_login\n",
    "from wikibaseintegrator import datatypes\n",
    "from wikibaseintegrator.wbi_config import config as wbi_config\n",
    "from os.path import join, isfile, exists, isdir, abspath, pardir\n",
    "from os import listdir, getcwd\n",
    "import pandas as pd\n",
    "from wikibaseintegrator.datatypes import (URL, CommonsMedia, ExternalID, Form, GeoShape, GlobeCoordinate, Item, Lexeme, Math, MonolingualText, MusicalNotation, Property, Quantity, Sense, String, TabularData, Time)\n",
    "from wikibaseintegrator.wbi_enums import ActionIfExists, WikibaseDatePrecision, WikibaseRank, WikibaseSnakType\n",
    "from wikibaseintegrator.wbi_exceptions import MissingEntityException, ModificationFailed, MWApiError"
   ]
  },
  {
   "cell_type": "code",
   "execution_count": null,
   "id": "1334018b-1b0d-4c5f-af1f-0fedbb61b5e0",
   "metadata": {},
   "outputs": [],
   "source": [
    "# Default variables\n",
    "WDUSER, WDPASS = \"Admin\", \"90J8XXXaO4Sr9^^Z\"\n",
    "# WDUSER, WDPASS = \"Mohammadzainabbas\", \"fHh!%shFa6^h\""
   ]
  },
  {
   "cell_type": "code",
   "execution_count": null,
   "id": "3779edb8",
   "metadata": {},
   "outputs": [],
   "source": [
    "parent_dir = abspath(join(getcwd(), pardir))\n",
    "data_dir = join(parent_dir, \"data\")\n",
    "team_data = join(data_dir, \"BDMA_Team_v1.csv\")\n",
    "project_data = join(data_dir, \"BDMA_Projects_v1.csv\")"
   ]
  },
  {
   "cell_type": "code",
   "execution_count": null,
   "id": "094b17a2-212a-43c4-bcf2-9b21f05a5d0f",
   "metadata": {},
   "outputs": [],
   "source": [
    "def setup_config():\n",
    "    \"\"\"\n",
    "    Set up WBI config to use local docker installation\n",
    "    \"\"\"\n",
    "    wbi_config['MEDIAWIKI_API_URL'] = 'http://139.144.66.193:8181/api.php'\n",
    "    wbi_config['SPARQL_ENDPOINT_URL'] = '\"http://139.144.66.193:8282/proxy/wdqs/bigdata/namespace/wdq/sparql\"'\n",
    "    wbi_config['WIKIBASE_URL'] = 'http://wikibase.svc'"
   ]
  },
  {
   "cell_type": "code",
   "execution_count": null,
   "id": "01c04e6a-c475-4f01-8f82-2bd1e5d4523d",
   "metadata": {},
   "outputs": [],
   "source": [
    "setup_config()"
   ]
  },
  {
   "cell_type": "code",
   "execution_count": null,
   "id": "8012c13a-2f8b-4205-8752-bb32c8f1538b",
   "metadata": {},
   "outputs": [],
   "source": [
    "login = wbi_login.Login(user=WDUSER, password=WDPASS)"
   ]
  },
  {
   "cell_type": "code",
   "execution_count": null,
   "id": "1c962b5b-aea4-474f-8081-86f80e146f83",
   "metadata": {},
   "outputs": [],
   "source": [
    "wbi = WikibaseIntegrator(login=login)"
   ]
  },
  {
   "cell_type": "code",
   "execution_count": null,
   "id": "b9dc947d-e9c0-4448-b967-9f3afa9e5f8a",
   "metadata": {},
   "outputs": [],
   "source": [
    "df = pd.read_csv(team_data)\n",
    "df.head()"
   ]
  },
  {
   "cell_type": "code",
   "execution_count": null,
   "id": "10185833",
   "metadata": {},
   "outputs": [],
   "source": [
    "column_names = df.columns.to_list()"
   ]
  },
  {
   "cell_type": "code",
   "execution_count": null,
   "id": "26ac174f",
   "metadata": {},
   "outputs": [],
   "source": [
    "def create_mapping(file_name):\n",
    "    # Read .csv file to create mappings\n",
    "    __df = pd.read_csv(join(file_name))\n",
    "    \n",
    "    if __df.empty: return\n",
    "\n",
    "    columns_with_mappings = list(__df.T.to_dict().values())\n",
    "\n",
    "    for item in columns_with_mappings:\n",
    "        __col_name = item['column']\n",
    "        __data_type = item['data_type']\n",
    "        __type = item['type']\n",
    "        __mapping_code = item['mapping_code']\n",
    "        __description = item['description']\n",
    "        __alias = item['alias']\n",
    "\n",
    "        try:\n",
    "\n",
    "            p = wbi.property.new(datatype=__data_type)\n",
    "            p.labels.set('en', __col_name)\n",
    "            p.descriptions.set('en', __description)\n",
    "            p.aliases.set('en', __alias)\n",
    "\n",
    "            res = p.write()\n",
    "\n",
    "            ident = [x for x in str(res).split('\\n') if \"_id='P\" in x]\n",
    "            if len(ident) == 1:\n",
    "                prop_code = ident[0].split(\"'\")[1]\n",
    "                print(\"Column '{}' is mapped to '{}'\".format(__col_name, prop_code))\n",
    "            else:\n",
    "                raise Exception(\"Surprise, this method didn't work.\")\n",
    "        \n",
    "        except ModificationFailed as e:\n",
    "            print(\"Property '{}' already exists\".format(__col_name))\n",
    "            continue"
   ]
  },
  {
   "cell_type": "code",
   "execution_count": null,
   "id": "f06af458",
   "metadata": {},
   "outputs": [],
   "source": [
    "team_mapping = join(data_dir, \"team_mapping.csv\")\n",
    "create_mapping(team_mapping)"
   ]
  },
  {
   "cell_type": "code",
   "execution_count": null,
   "id": "a217f902",
   "metadata": {},
   "outputs": [],
   "source": [
    "project_mapping = join(data_dir, \"project_mapping.csv\")\n",
    "create_mapping(project_mapping)"
   ]
  }
 ],
 "metadata": {
  "kernelspec": {
   "display_name": "Python 3.10.4 ('wikibase': conda)",
   "language": "python",
   "name": "python3"
  },
  "language_info": {
   "codemirror_mode": {
    "name": "ipython",
    "version": 3
   },
   "file_extension": ".py",
   "mimetype": "text/x-python",
   "name": "python",
   "nbconvert_exporter": "python",
   "pygments_lexer": "ipython3",
   "version": "3.10.4"
  },
  "vscode": {
   "interpreter": {
    "hash": "6c22d6f1796eae68ca5ff538193c965dfba0cad9bffc3b4e0ee17974b903305c"
   }
  }
 },
 "nbformat": 4,
 "nbformat_minor": 5
}
