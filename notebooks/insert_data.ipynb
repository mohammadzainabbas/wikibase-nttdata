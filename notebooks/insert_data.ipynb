{
 "cells": [
  {
   "cell_type": "code",
   "execution_count": 36,
   "id": "9ef43b03-7605-465e-90b6-e02d86f56edb",
   "metadata": {},
   "outputs": [],
   "source": [
    "from wikibaseintegrator.models import Qualifiers, References, Reference\n",
    "from wikibaseintegrator import WikibaseIntegrator\n",
    "from wikibaseintegrator import wbi_login\n",
    "from wikibaseintegrator import datatypes\n",
    "from wikibaseintegrator.wbi_config import config as wbi_config\n",
    "from os.path import join, isfile, exists, isdir, abspath, pardir\n",
    "from os import listdir, getcwd\n",
    "import pandas as pd\n",
    "from wikibaseintegrator.datatypes import (URL, CommonsMedia, ExternalID, Form, GeoShape, GlobeCoordinate, Item, Lexeme, Math, MonolingualText, MusicalNotation, Property, Quantity, Sense, String, TabularData, Time)\n",
    "from wikibaseintegrator.wbi_enums import ActionIfExists, WikibaseDatePrecision, WikibaseRank, WikibaseSnakType"
   ]
  },
  {
   "cell_type": "code",
   "execution_count": 4,
   "id": "1334018b-1b0d-4c5f-af1f-0fedbb61b5e0",
   "metadata": {},
   "outputs": [],
   "source": [
    "# Default variables\n",
    "WDUSER, WDPASS = \"Admin\", \"90J8XXXaO4Sr9^^Z\"\n",
    "# WDUSER, WDPASS = \"Mohammadzainabbas\", \"fHh!%shFa6^h\""
   ]
  },
  {
   "cell_type": "code",
   "execution_count": 13,
   "id": "3779edb8",
   "metadata": {},
   "outputs": [],
   "source": [
    "parent_dir = abspath(join(getcwd(), pardir))\n",
    "data_dir = join(parent_dir, \"data\")\n",
    "team_data = join(data_dir, \"BDMA_Team_v1.csv\")\n",
    "project_data = join(data_dir, \"BDMA_Projects_v1.csv\")"
   ]
  },
  {
   "cell_type": "code",
   "execution_count": 2,
   "id": "094b17a2-212a-43c4-bcf2-9b21f05a5d0f",
   "metadata": {},
   "outputs": [],
   "source": [
    "def setup_config():\n",
    "    \"\"\"\n",
    "    Set up WBI config to use local docker installation\n",
    "    \"\"\"\n",
    "    wbi_config['MEDIAWIKI_API_URL'] = 'http://139.144.66.193:8181/api.php'\n",
    "    wbi_config['SPARQL_ENDPOINT_URL'] = '\"http://139.144.66.193:8282/proxy/wdqs/bigdata/namespace/wdq/sparql\"'\n",
    "    wbi_config['WIKIBASE_URL'] = 'http://wikibase.svc'"
   ]
  },
  {
   "cell_type": "code",
   "execution_count": 3,
   "id": "01c04e6a-c475-4f01-8f82-2bd1e5d4523d",
   "metadata": {},
   "outputs": [],
   "source": [
    "setup_config()"
   ]
  },
  {
   "cell_type": "code",
   "execution_count": 5,
   "id": "8012c13a-2f8b-4205-8752-bb32c8f1538b",
   "metadata": {},
   "outputs": [
    {
     "name": "stderr",
     "output_type": "stream",
     "text": [
      "WARNING:root:MediaWiki login warnings messages:\n",
      "WARNING:root:* main: Subscribe to the mediawiki-api-announce mailing list at <https://lists.wikimedia.org/mailman/listinfo/mediawiki-api-announce> for notice of API deprecations and breaking changes.\n",
      "WARNING:root:* login: Main-account login via \"action=login\" is deprecated and may stop working without warning. To continue login with \"action=login\", see [[Special:BotPasswords]]. To safely continue using main-account login, see \"action=clientlogin\".\n"
     ]
    }
   ],
   "source": [
    "login = wbi_login.Login(user=WDUSER, password=WDPASS)"
   ]
  },
  {
   "cell_type": "code",
   "execution_count": 6,
   "id": "1c962b5b-aea4-474f-8081-86f80e146f83",
   "metadata": {},
   "outputs": [],
   "source": [
    "wbi = WikibaseIntegrator(login=login)"
   ]
  },
  {
   "cell_type": "code",
   "execution_count": 16,
   "id": "b9dc947d-e9c0-4448-b967-9f3afa9e5f8a",
   "metadata": {},
   "outputs": [
    {
     "data": {
      "text/html": [
       "<div>\n",
       "<style scoped>\n",
       "    .dataframe tbody tr th:only-of-type {\n",
       "        vertical-align: middle;\n",
       "    }\n",
       "\n",
       "    .dataframe tbody tr th {\n",
       "        vertical-align: top;\n",
       "    }\n",
       "\n",
       "    .dataframe thead th {\n",
       "        text-align: right;\n",
       "    }\n",
       "</style>\n",
       "<table border=\"1\" class=\"dataframe\">\n",
       "  <thead>\n",
       "    <tr style=\"text-align: right;\">\n",
       "      <th></th>\n",
       "      <th>Id</th>\n",
       "      <th>Name</th>\n",
       "      <th>Family Name</th>\n",
       "      <th>Birthdate</th>\n",
       "      <th>Nationality</th>\n",
       "      <th>Category</th>\n",
       "      <th>Start date</th>\n",
       "      <th>End date</th>\n",
       "    </tr>\n",
       "  </thead>\n",
       "  <tbody>\n",
       "    <tr>\n",
       "      <th>0</th>\n",
       "      <td>S000001</td>\n",
       "      <td>Mohammad Zain</td>\n",
       "      <td>Abbas</td>\n",
       "      <td>09/05/1995</td>\n",
       "      <td>Pakistani</td>\n",
       "      <td>SK-N3</td>\n",
       "      <td>19/07/2022</td>\n",
       "      <td>06/09/2022</td>\n",
       "    </tr>\n",
       "    <tr>\n",
       "      <th>1</th>\n",
       "      <td>S000002</td>\n",
       "      <td>Kainaat</td>\n",
       "      <td>Amjid</td>\n",
       "      <td>30/12/1996</td>\n",
       "      <td>Pakistani</td>\n",
       "      <td>SK-N1</td>\n",
       "      <td>19/07/2022</td>\n",
       "      <td>13/09/2022</td>\n",
       "    </tr>\n",
       "    <tr>\n",
       "      <th>2</th>\n",
       "      <td>S000003</td>\n",
       "      <td>Sergio</td>\n",
       "      <td>Postigo</td>\n",
       "      <td>12/02/1996</td>\n",
       "      <td>Peru</td>\n",
       "      <td>SK-N2</td>\n",
       "      <td>26/07/2022</td>\n",
       "      <td>13/10/2022</td>\n",
       "    </tr>\n",
       "    <tr>\n",
       "      <th>3</th>\n",
       "      <td>S000004</td>\n",
       "      <td>Emmanuel</td>\n",
       "      <td>Jamin</td>\n",
       "      <td>28/09/1978</td>\n",
       "      <td>French</td>\n",
       "      <td>SKL-N2</td>\n",
       "      <td>10/01/2015</td>\n",
       "      <td>11/01/2015</td>\n",
       "    </tr>\n",
       "  </tbody>\n",
       "</table>\n",
       "</div>"
      ],
      "text/plain": [
       "        Id           Name Family Name   Birthdate Nationality Category  \\\n",
       "0  S000001  Mohammad Zain       Abbas  09/05/1995   Pakistani    SK-N3   \n",
       "1  S000002        Kainaat       Amjid  30/12/1996   Pakistani    SK-N1   \n",
       "2  S000003         Sergio     Postigo  12/02/1996        Peru    SK-N2   \n",
       "3  S000004       Emmanuel       Jamin  28/09/1978      French   SKL-N2   \n",
       "\n",
       "   Start date    End date  \n",
       "0  19/07/2022  06/09/2022  \n",
       "1  19/07/2022  13/09/2022  \n",
       "2  26/07/2022  13/10/2022  \n",
       "3  10/01/2015  11/01/2015  "
      ]
     },
     "execution_count": 16,
     "metadata": {},
     "output_type": "execute_result"
    }
   ],
   "source": [
    "df = pd.read_csv(team_data)\n",
    "df.head()"
   ]
  },
  {
   "cell_type": "code",
   "execution_count": 20,
   "id": "10185833",
   "metadata": {},
   "outputs": [
    {
     "data": {
      "text/plain": [
       "['Id',\n",
       " 'Name',\n",
       " 'Family Name',\n",
       " 'Birthdate',\n",
       " 'Nationality',\n",
       " 'Category',\n",
       " 'Start date',\n",
       " 'End date']"
      ]
     },
     "execution_count": 20,
     "metadata": {},
     "output_type": "execute_result"
    }
   ],
   "source": [
    "column_names = df.columns.to_list()"
   ]
  },
  {
   "cell_type": "code",
   "execution_count": 46,
   "id": "f06af458",
   "metadata": {},
   "outputs": [
    {
     "data": {
      "text/html": [
       "<div>\n",
       "<style scoped>\n",
       "    .dataframe tbody tr th:only-of-type {\n",
       "        vertical-align: middle;\n",
       "    }\n",
       "\n",
       "    .dataframe tbody tr th {\n",
       "        vertical-align: top;\n",
       "    }\n",
       "\n",
       "    .dataframe thead th {\n",
       "        text-align: right;\n",
       "    }\n",
       "</style>\n",
       "<table border=\"1\" class=\"dataframe\">\n",
       "  <thead>\n",
       "    <tr style=\"text-align: right;\">\n",
       "      <th></th>\n",
       "      <th>column</th>\n",
       "      <th>data_type</th>\n",
       "      <th>type</th>\n",
       "      <th>mapping_code</th>\n",
       "      <th>description</th>\n",
       "    </tr>\n",
       "  </thead>\n",
       "  <tbody>\n",
       "    <tr>\n",
       "      <th>0</th>\n",
       "      <td>Id</td>\n",
       "      <td>string</td>\n",
       "      <td>internal</td>\n",
       "      <td>NaN</td>\n",
       "      <td>Unique identifier for a SEMBU team member</td>\n",
       "    </tr>\n",
       "    <tr>\n",
       "      <th>1</th>\n",
       "      <td>Name</td>\n",
       "      <td>external-id</td>\n",
       "      <td>external</td>\n",
       "      <td>P735</td>\n",
       "      <td>First name/given name of SEMBU team member</td>\n",
       "    </tr>\n",
       "    <tr>\n",
       "      <th>2</th>\n",
       "      <td>Family Name</td>\n",
       "      <td>external-id</td>\n",
       "      <td>external</td>\n",
       "      <td>P734</td>\n",
       "      <td>Surname/Family name of SEMBU team member</td>\n",
       "    </tr>\n",
       "    <tr>\n",
       "      <th>3</th>\n",
       "      <td>Birthdate</td>\n",
       "      <td>external-id</td>\n",
       "      <td>external</td>\n",
       "      <td>P569</td>\n",
       "      <td>Date of birth</td>\n",
       "    </tr>\n",
       "    <tr>\n",
       "      <th>4</th>\n",
       "      <td>Nationality</td>\n",
       "      <td>external-id</td>\n",
       "      <td>external</td>\n",
       "      <td>P27</td>\n",
       "      <td>Nationality of SEMBU team member</td>\n",
       "    </tr>\n",
       "  </tbody>\n",
       "</table>\n",
       "</div>"
      ],
      "text/plain": [
       "        column    data_type      type mapping_code  \\\n",
       "0           Id       string  internal          NaN   \n",
       "1         Name  external-id  external         P735   \n",
       "2  Family Name  external-id  external         P734   \n",
       "3    Birthdate  external-id  external         P569   \n",
       "4  Nationality  external-id  external          P27   \n",
       "\n",
       "                                  description  \n",
       "0   Unique identifier for a SEMBU team member  \n",
       "1  First name/given name of SEMBU team member  \n",
       "2    Surname/Family name of SEMBU team member  \n",
       "3                               Date of birth  \n",
       "4            Nationality of SEMBU team member  "
      ]
     },
     "execution_count": 46,
     "metadata": {},
     "output_type": "execute_result"
    }
   ],
   "source": [
    "team_mapping = join(data_dir, \"team_mapping.csv\")\n",
    "map_df = pd.read_csv(team_mapping)\n",
    "map_df.head()"
   ]
  },
  {
   "cell_type": "code",
   "execution_count": 47,
   "id": "11611bbd",
   "metadata": {},
   "outputs": [],
   "source": [
    "columns_with_mappings = list(map_df.T.to_dict().values())"
   ]
  },
  {
   "cell_type": "code",
   "execution_count": 48,
   "id": "bcae7e4e",
   "metadata": {},
   "outputs": [
    {
     "data": {
      "text/plain": [
       "{'column': 'Id',\n",
       " 'data_type': 'string',\n",
       " 'type': 'internal',\n",
       " 'mapping_code': nan,\n",
       " 'description': 'Unique identifier for a SEMBU team member'}"
      ]
     },
     "execution_count": 48,
     "metadata": {},
     "output_type": "execute_result"
    }
   ],
   "source": [
    "columns_with_mappings[0]"
   ]
  },
  {
   "cell_type": "code",
   "execution_count": 49,
   "id": "640b25ac",
   "metadata": {},
   "outputs": [
    {
     "name": "stdout",
     "output_type": "stream",
     "text": [
      "Column 'Id' is internal.\n"
     ]
    },
    {
     "name": "stderr",
     "output_type": "stream",
     "text": [
      "ERROR:root:Error while writing to the Wikibase instance\n",
      "Traceback (most recent call last):\n",
      "  File \"/root/anaconda3/envs/wikibase/lib/python3.10/site-packages/wikibaseintegrator/entities/baseentity.py\", line 255, in _write\n",
      "    json_result: dict = mediawiki_api_call_helper(data=payload, login=login, allow_anonymous=allow_anonymous, is_bot=is_bot, **kwargs)\n",
      "  File \"/root/anaconda3/envs/wikibase/lib/python3.10/site-packages/wikibaseintegrator/wbi_helpers.py\", line 211, in mediawiki_api_call_helper\n",
      "    return mediawiki_api_call('POST', mediawiki_api_url=mediawiki_api_url, session=session, data=data, headers=headers, max_retries=max_retries, retry_after=retry_after, **kwargs)\n",
      "  File \"/root/anaconda3/envs/wikibase/lib/python3.10/site-packages/wikibaseintegrator/wbi_helpers.py\", line 122, in mediawiki_api_call\n",
      "    raise ModificationFailed(json_data['error'])\n",
      "wikibaseintegrator.wbi_exceptions.ModificationFailed: 'Property [[Property:P4|P4]] already has label \"Id\" associated with language code en.'\n"
     ]
    },
    {
     "ename": "ModificationFailed",
     "evalue": "'Property [[Property:P4|P4]] already has label \"Id\" associated with language code en.'",
     "output_type": "error",
     "traceback": [
      "\u001b[0;31m---------------------------------------------------------------------------\u001b[0m",
      "\u001b[0;31mModificationFailed\u001b[0m                        Traceback (most recent call last)",
      "\u001b[1;32m/root/wikibase-nttdata/notebooks/insert_data.ipynb Cell 13\u001b[0m in \u001b[0;36m<cell line: 1>\u001b[0;34m()\u001b[0m\n\u001b[1;32m     <a href='vscode-notebook-cell://ssh-remote%2B7b22686f73744e616d65223a22524f4f545f4a41525649535f4c494e4f4445227d/root/wikibase-nttdata/notebooks/insert_data.ipynb#X16sdnNjb2RlLXJlbW90ZQ%3D%3D?line=11'>12</a>\u001b[0m p\u001b[39m.\u001b[39mlabels\u001b[39m.\u001b[39mset(\u001b[39m'\u001b[39m\u001b[39men\u001b[39m\u001b[39m'\u001b[39m, __col_name)\n\u001b[1;32m     <a href='vscode-notebook-cell://ssh-remote%2B7b22686f73744e616d65223a22524f4f545f4a41525649535f4c494e4f4445227d/root/wikibase-nttdata/notebooks/insert_data.ipynb#X16sdnNjb2RlLXJlbW90ZQ%3D%3D?line=12'>13</a>\u001b[0m p\u001b[39m.\u001b[39mdescriptions\u001b[39m.\u001b[39mset(\u001b[39m'\u001b[39m\u001b[39men\u001b[39m\u001b[39m'\u001b[39m, __description)\n\u001b[0;32m---> <a href='vscode-notebook-cell://ssh-remote%2B7b22686f73744e616d65223a22524f4f545f4a41525649535f4c494e4f4445227d/root/wikibase-nttdata/notebooks/insert_data.ipynb#X16sdnNjb2RlLXJlbW90ZQ%3D%3D?line=14'>15</a>\u001b[0m res \u001b[39m=\u001b[39m p\u001b[39m.\u001b[39;49mwrite()\n\u001b[1;32m     <a href='vscode-notebook-cell://ssh-remote%2B7b22686f73744e616d65223a22524f4f545f4a41525649535f4c494e4f4445227d/root/wikibase-nttdata/notebooks/insert_data.ipynb#X16sdnNjb2RlLXJlbW90ZQ%3D%3D?line=16'>17</a>\u001b[0m ident \u001b[39m=\u001b[39m [x \u001b[39mfor\u001b[39;00m x \u001b[39min\u001b[39;00m \u001b[39mstr\u001b[39m(res)\u001b[39m.\u001b[39msplit(\u001b[39m'\u001b[39m\u001b[39m\\n\u001b[39;00m\u001b[39m'\u001b[39m) \u001b[39mif\u001b[39;00m \u001b[39m\"\u001b[39m\u001b[39m_id=\u001b[39m\u001b[39m'\u001b[39m\u001b[39mP\u001b[39m\u001b[39m\"\u001b[39m \u001b[39min\u001b[39;00m x]\n\u001b[1;32m     <a href='vscode-notebook-cell://ssh-remote%2B7b22686f73744e616d65223a22524f4f545f4a41525649535f4c494e4f4445227d/root/wikibase-nttdata/notebooks/insert_data.ipynb#X16sdnNjb2RlLXJlbW90ZQ%3D%3D?line=17'>18</a>\u001b[0m \u001b[39mif\u001b[39;00m \u001b[39mlen\u001b[39m(ident) \u001b[39m==\u001b[39m \u001b[39m1\u001b[39m:\n",
      "File \u001b[0;32m~/anaconda3/envs/wikibase/lib/python3.10/site-packages/wikibaseintegrator/entities/property.py:125\u001b[0m, in \u001b[0;36mPropertyEntity.write\u001b[0;34m(self, **kwargs)\u001b[0m\n\u001b[1;32m    112\u001b[0m \u001b[39mdef\u001b[39;00m \u001b[39mwrite\u001b[39m(\u001b[39mself\u001b[39m, \u001b[39m*\u001b[39m\u001b[39m*\u001b[39mkwargs: Any) \u001b[39m-\u001b[39m\u001b[39m>\u001b[39m PropertyEntity:\n\u001b[1;32m    113\u001b[0m     \u001b[39m\"\"\"\u001b[39;00m\n\u001b[1;32m    114\u001b[0m \u001b[39m    Write the PropertyEntity data to the Wikibase instance and return the PropertyEntity object returned by the instance.\u001b[39;00m\n\u001b[1;32m    115\u001b[0m \n\u001b[0;32m   (...)\u001b[0m\n\u001b[1;32m    123\u001b[0m \u001b[39m    :return: an PropertyEntity of the response from the instance\u001b[39;00m\n\u001b[1;32m    124\u001b[0m \u001b[39m    \"\"\"\u001b[39;00m\n\u001b[0;32m--> 125\u001b[0m     json_data \u001b[39m=\u001b[39m \u001b[39msuper\u001b[39;49m()\u001b[39m.\u001b[39;49m_write(data\u001b[39m=\u001b[39;49m\u001b[39mself\u001b[39;49m\u001b[39m.\u001b[39;49mget_json(), \u001b[39m*\u001b[39;49m\u001b[39m*\u001b[39;49mkwargs)\n\u001b[1;32m    126\u001b[0m     \u001b[39mreturn\u001b[39;00m \u001b[39mself\u001b[39m\u001b[39m.\u001b[39mfrom_json(json_data\u001b[39m=\u001b[39mjson_data)\n",
      "File \u001b[0;32m~/anaconda3/envs/wikibase/lib/python3.10/site-packages/wikibaseintegrator/entities/baseentity.py:255\u001b[0m, in \u001b[0;36mBaseEntity._write\u001b[0;34m(self, data, summary, login, allow_anonymous, clear, is_bot, **kwargs)\u001b[0m\n\u001b[1;32m    252\u001b[0m login \u001b[39m=\u001b[39m login \u001b[39mor\u001b[39;00m \u001b[39mself\u001b[39m\u001b[39m.\u001b[39mapi\u001b[39m.\u001b[39mlogin\n\u001b[1;32m    254\u001b[0m \u001b[39mtry\u001b[39;00m:\n\u001b[0;32m--> 255\u001b[0m     json_result: \u001b[39mdict\u001b[39m \u001b[39m=\u001b[39m mediawiki_api_call_helper(data\u001b[39m=\u001b[39;49mpayload, login\u001b[39m=\u001b[39;49mlogin, allow_anonymous\u001b[39m=\u001b[39;49mallow_anonymous, is_bot\u001b[39m=\u001b[39;49mis_bot, \u001b[39m*\u001b[39;49m\u001b[39m*\u001b[39;49mkwargs)\n\u001b[1;32m    256\u001b[0m \u001b[39mexcept\u001b[39;00m \u001b[39mException\u001b[39;00m:\n\u001b[1;32m    257\u001b[0m     logging\u001b[39m.\u001b[39mexception(\u001b[39m'\u001b[39m\u001b[39mError while writing to the Wikibase instance\u001b[39m\u001b[39m'\u001b[39m)\n",
      "File \u001b[0;32m~/anaconda3/envs/wikibase/lib/python3.10/site-packages/wikibaseintegrator/wbi_helpers.py:211\u001b[0m, in \u001b[0;36mmediawiki_api_call_helper\u001b[0;34m(data, login, mediawiki_api_url, user_agent, allow_anonymous, max_retries, retry_after, maxlag, is_bot, **kwargs)\u001b[0m\n\u001b[1;32m    207\u001b[0m     session \u001b[39m=\u001b[39m \u001b[39mNone\u001b[39;00m\n\u001b[1;32m    209\u001b[0m log\u001b[39m.\u001b[39mdebug(data)\n\u001b[0;32m--> 211\u001b[0m \u001b[39mreturn\u001b[39;00m mediawiki_api_call(\u001b[39m'\u001b[39;49m\u001b[39mPOST\u001b[39;49m\u001b[39m'\u001b[39;49m, mediawiki_api_url\u001b[39m=\u001b[39;49mmediawiki_api_url, session\u001b[39m=\u001b[39;49msession, data\u001b[39m=\u001b[39;49mdata, headers\u001b[39m=\u001b[39;49mheaders, max_retries\u001b[39m=\u001b[39;49mmax_retries, retry_after\u001b[39m=\u001b[39;49mretry_after, \u001b[39m*\u001b[39;49m\u001b[39m*\u001b[39;49mkwargs)\n",
      "File \u001b[0;32m~/anaconda3/envs/wikibase/lib/python3.10/site-packages/wikibaseintegrator/wbi_helpers.py:122\u001b[0m, in \u001b[0;36mmediawiki_api_call\u001b[0;34m(method, mediawiki_api_url, session, max_retries, retry_after, **kwargs)\u001b[0m\n\u001b[1;32m    120\u001b[0m \u001b[39m# duplicate error\u001b[39;00m\n\u001b[1;32m    121\u001b[0m \u001b[39mif\u001b[39;00m \u001b[39m'\u001b[39m\u001b[39mcode\u001b[39m\u001b[39m'\u001b[39m \u001b[39min\u001b[39;00m json_data[\u001b[39m'\u001b[39m\u001b[39merror\u001b[39m\u001b[39m'\u001b[39m] \u001b[39mand\u001b[39;00m json_data[\u001b[39m'\u001b[39m\u001b[39merror\u001b[39m\u001b[39m'\u001b[39m][\u001b[39m'\u001b[39m\u001b[39mcode\u001b[39m\u001b[39m'\u001b[39m] \u001b[39m==\u001b[39m \u001b[39m'\u001b[39m\u001b[39mmodification-failed\u001b[39m\u001b[39m'\u001b[39m:  \u001b[39m# pragma: no cover\u001b[39;00m\n\u001b[0;32m--> 122\u001b[0m     \u001b[39mraise\u001b[39;00m ModificationFailed(json_data[\u001b[39m'\u001b[39m\u001b[39merror\u001b[39m\u001b[39m'\u001b[39m])\n\u001b[1;32m    124\u001b[0m \u001b[39m# others case\u001b[39;00m\n\u001b[1;32m    125\u001b[0m \u001b[39mraise\u001b[39;00m MWApiError(json_data)\n",
      "\u001b[0;31mModificationFailed\u001b[0m: 'Property [[Property:P4|P4]] already has label \"Id\" associated with language code en.'"
     ]
    }
   ],
   "source": [
    "for item in columns_with_mappings:\n",
    "    __col_name = item['column']\n",
    "    __data_type = item['data_type']\n",
    "    __type = item['type']\n",
    "    __mapping_code = item['mapping_code']\n",
    "    __description = item['description']\n",
    "\n",
    "    if __type == 'internal':\n",
    "        print(\"Column '{}' is internal.\".format(__col_name))\n",
    "\n",
    "        p = wbi.property.new(datatype=__data_type)\n",
    "        p.labels.set('en', __col_name)\n",
    "        p.descriptions.set('en', __description)\n",
    "\n",
    "        res = p.write()\n",
    "\n",
    "        ident = [x for x in str(res).split('\\n') if \"_id='P\" in x]\n",
    "        if len(ident) == 1:\n",
    "            print(ident[0].split(\"'\")[1])\n",
    "        else:\n",
    "            raise Exception(\"Surprise, this method didn't work.\")\n"
   ]
  },
  {
   "cell_type": "code",
   "execution_count": null,
   "id": "a217f902",
   "metadata": {},
   "outputs": [],
   "source": []
  }
 ],
 "metadata": {
  "kernelspec": {
   "display_name": "Python 3.10.4 ('wikibase': conda)",
   "language": "python",
   "name": "python3"
  },
  "language_info": {
   "codemirror_mode": {
    "name": "ipython",
    "version": 3
   },
   "file_extension": ".py",
   "mimetype": "text/x-python",
   "name": "python",
   "nbconvert_exporter": "python",
   "pygments_lexer": "ipython3",
   "version": "3.10.4"
  },
  "vscode": {
   "interpreter": {
    "hash": "6c22d6f1796eae68ca5ff538193c965dfba0cad9bffc3b4e0ee17974b903305c"
   }
  }
 },
 "nbformat": 4,
 "nbformat_minor": 5
}
