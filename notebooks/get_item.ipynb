{
 "cells": [
  {
   "cell_type": "code",
   "execution_count": 1,
   "id": "9ef43b03-7605-465e-90b6-e02d86f56edb",
   "metadata": {},
   "outputs": [],
   "source": [
    "from wikibaseintegrator.models import Qualifiers, References, Reference\n",
    "from wikibaseintegrator import WikibaseIntegrator\n",
    "from wikibaseintegrator import wbi_login\n",
    "from wikibaseintegrator import datatypes\n",
    "from wikibaseintegrator.wbi_config import config as wbi_config"
   ]
  },
  {
   "cell_type": "code",
   "execution_count": 2,
   "id": "094b17a2-212a-43c4-bcf2-9b21f05a5d0f",
   "metadata": {},
   "outputs": [],
   "source": [
    "def setup_config():\n",
    "    \"\"\"\n",
    "    Set up WBI config to use local docker installation\n",
    "    \"\"\"\n",
    "    wbi_config['MEDIAWIKI_API_URL'] = 'http://139.144.66.193:8181/api.php'\n",
    "    wbi_config['SPARQL_ENDPOINT_URL'] = '\"http://139.144.66.193:8282/proxy/wdqs/bigdata/namespace/wdq/sparql\"'\n",
    "    wbi_config['WIKIBASE_URL'] = 'http://wikibase.svc'"
   ]
  },
  {
   "cell_type": "code",
   "execution_count": 3,
   "id": "01c04e6a-c475-4f01-8f82-2bd1e5d4523d",
   "metadata": {},
   "outputs": [],
   "source": [
    "setup_config()"
   ]
  },
  {
   "cell_type": "code",
   "execution_count": 4,
   "id": "1334018b-1b0d-4c5f-af1f-0fedbb61b5e0",
   "metadata": {},
   "outputs": [],
   "source": [
    "# Default variables\n",
    "WDUSER, WDPASS = \"Admin\", \"90J8XXXaO4Sr9^^Z\"\n",
    "# WDUSER, WDPASS = \"Mohammadzainabbas\", \"fHh!%shFa6^h\""
   ]
  },
  {
   "cell_type": "code",
   "execution_count": 5,
   "id": "8012c13a-2f8b-4205-8752-bb32c8f1538b",
   "metadata": {},
   "outputs": [
    {
     "name": "stderr",
     "output_type": "stream",
     "text": [
      "WARNING:root:MediaWiki login warnings messages:\n",
      "WARNING:root:* main: Subscribe to the mediawiki-api-announce mailing list at <https://lists.wikimedia.org/mailman/listinfo/mediawiki-api-announce> for notice of API deprecations and breaking changes.\n",
      "WARNING:root:* login: Main-account login via \"action=login\" is deprecated and may stop working without warning. To continue login with \"action=login\", see [[Special:BotPasswords]]. To safely continue using main-account login, see \"action=clientlogin\".\n"
     ]
    }
   ],
   "source": [
    "login = wbi_login.Login(user=WDUSER, password=WDPASS)"
   ]
  },
  {
   "cell_type": "code",
   "execution_count": 6,
   "id": "1c962b5b-aea4-474f-8081-86f80e146f83",
   "metadata": {},
   "outputs": [],
   "source": [
    "wbi = WikibaseIntegrator(login=login)"
   ]
  },
  {
   "cell_type": "code",
   "execution_count": 7,
   "id": "b9dc947d-e9c0-4448-b967-9f3afa9e5f8a",
   "metadata": {},
   "outputs": [],
   "source": [
    "q3 = wbi.item.get('Q3')"
   ]
  },
  {
   "cell_type": "code",
   "execution_count": 12,
   "id": "3224466a-13ef-489c-9674-fe44e89a40cf",
   "metadata": {},
   "outputs": [
    {
     "data": {
      "text/plain": [
       "'NTTData test item'"
      ]
     },
     "execution_count": 12,
     "metadata": {},
     "output_type": "execute_result"
    }
   ],
   "source": [
    "q3.labels.get('en').value"
   ]
  },
  {
   "cell_type": "code",
   "execution_count": 23,
   "id": "01f06155-cb38-4c3a-a6c4-d2b3d1579d78",
   "metadata": {},
   "outputs": [
    {
     "data": {
      "text/plain": [
       "'Test'"
      ]
     },
     "execution_count": 23,
     "metadata": {},
     "output_type": "execute_result"
    }
   ],
   "source": [
    "q3.claims.get('P1')[0].mainsnak.datavalue['value']"
   ]
  },
  {
   "cell_type": "code",
   "execution_count": 45,
   "id": "0f850b9f-7f2b-4eaf-a805-9b4d82d21451",
   "metadata": {},
   "outputs": [
    {
     "data": {
      "text/plain": [
       "{'P1': [{'mainsnak': {'snaktype': 'value',\n",
       "    'property': 'P1',\n",
       "    'datatype': 'string',\n",
       "    'datavalue': {'value': 'Test', 'type': 'string'}},\n",
       "   'type': 'statement',\n",
       "   'id': 'Q3$b47826b9-453b-a8ec-807e-878f9eaf95ac',\n",
       "   'rank': 'normal'}]}"
      ]
     },
     "execution_count": 45,
     "metadata": {},
     "output_type": "execute_result"
    }
   ],
   "source": [
    "dir(q3.claims.get('P1')[0])\n",
    "q3.claims.get_json()"
   ]
  },
  {
   "cell_type": "code",
   "execution_count": 47,
   "id": "38b2fd95-6082-446f-bb64-a3cf06c203c6",
   "metadata": {},
   "outputs": [],
   "source": [
    "p1 = wbi.property.get('P1')"
   ]
  },
  {
   "cell_type": "code",
   "execution_count": 48,
   "id": "7259a028-22cd-4ea7-8ffa-7c1096d5fc11",
   "metadata": {},
   "outputs": [
    {
     "data": {
      "text/plain": [
       "'part of test'"
      ]
     },
     "execution_count": 48,
     "metadata": {},
     "output_type": "execute_result"
    }
   ],
   "source": [
    "p1.labels.get('en').value"
   ]
  },
  {
   "cell_type": "code",
   "execution_count": 51,
   "id": "76115dc6-3e9d-4aee-964f-c2087143d079",
   "metadata": {},
   "outputs": [
    {
     "data": {
      "text/plain": [
       "{'labels': {'en': {'language': 'en', 'value': 'part of test'}},\n",
       " 'descriptions': {'en': {'language': 'en', 'value': 'Test property'}},\n",
       " 'aliases': {'en': [{'language': 'en', 'value': 'testing property'}]},\n",
       " 'type': 'property',\n",
       " 'claims': {},\n",
       " 'id': 'P1',\n",
       " 'datatype': 'string'}"
      ]
     },
     "execution_count": 51,
     "metadata": {},
     "output_type": "execute_result"
    }
   ],
   "source": [
    "p1.get_json()"
   ]
  },
  {
   "cell_type": "code",
   "execution_count": null,
   "id": "254c3078-a8fe-464c-b272-02d28ea35fdc",
   "metadata": {},
   "outputs": [],
   "source": [
    "p1 = wbi.property.get('P1')\n",
    "p1.get_json()"
   ]
  }
 ],
 "metadata": {
  "kernelspec": {
   "display_name": "Py Wikibase",
   "language": "python",
   "name": "wikibase"
  },
  "language_info": {
   "codemirror_mode": {
    "name": "ipython",
    "version": 3
   },
   "file_extension": ".py",
   "mimetype": "text/x-python",
   "name": "python",
   "nbconvert_exporter": "python",
   "pygments_lexer": "ipython3",
   "version": "3.10.4"
  }
 },
 "nbformat": 4,
 "nbformat_minor": 5
}
