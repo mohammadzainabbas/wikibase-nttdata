{
 "cells": [
  {
   "cell_type": "code",
   "execution_count": 1,
   "id": "9ef43b03-7605-465e-90b6-e02d86f56edb",
   "metadata": {},
   "outputs": [],
   "source": [
    "from wikibaseintegrator.models import Qualifiers, References, Reference\n",
    "from wikibaseintegrator import WikibaseIntegrator\n",
    "from wikibaseintegrator import wbi_login\n",
    "from wikibaseintegrator import datatypes\n",
    "from wikibaseintegrator.wbi_config import config as wbi_config"
   ]
  },
  {
   "cell_type": "code",
   "execution_count": 2,
   "id": "094b17a2-212a-43c4-bcf2-9b21f05a5d0f",
   "metadata": {},
   "outputs": [],
   "source": [
    "def setup_config():\n",
    "    \"\"\"\n",
    "    Set up WBI config to use local docker installation\n",
    "    \"\"\"\n",
    "    wbi_config['MEDIAWIKI_API_URL'] = 'http://139.144.66.193:8181/api.php'\n",
    "    wbi_config['SPARQL_ENDPOINT_URL'] = '\"http://139.144.66.193:8282/proxy/wdqs/bigdata/namespace/wdq/sparql\"'\n",
    "    wbi_config['WIKIBASE_URL'] = 'http://wikibase.svc'"
   ]
  },
  {
   "cell_type": "code",
   "execution_count": 3,
   "id": "01c04e6a-c475-4f01-8f82-2bd1e5d4523d",
   "metadata": {},
   "outputs": [],
   "source": [
    "setup_config()"
   ]
  },
  {
   "cell_type": "code",
   "execution_count": 4,
   "id": "1334018b-1b0d-4c5f-af1f-0fedbb61b5e0",
   "metadata": {},
   "outputs": [],
   "source": [
    "# Default variables\n",
    "WDUSER, WDPASS = \"Admin\", \"90J8XXXaO4Sr9^^Z\"\n",
    "# WDUSER, WDPASS = \"Mohammadzainabbas\", \"fHh!%shFa6^h\""
   ]
  },
  {
   "cell_type": "code",
   "execution_count": 5,
   "id": "8012c13a-2f8b-4205-8752-bb32c8f1538b",
   "metadata": {},
   "outputs": [
    {
     "name": "stderr",
     "output_type": "stream",
     "text": [
      "WARNING:root:MediaWiki login warnings messages:\n",
      "WARNING:root:* main: Subscribe to the mediawiki-api-announce mailing list at <https://lists.wikimedia.org/mailman/listinfo/mediawiki-api-announce> for notice of API deprecations and breaking changes.\n",
      "WARNING:root:* login: Main-account login via \"action=login\" is deprecated and may stop working without warning. To continue login with \"action=login\", see [[Special:BotPasswords]]. To safely continue using main-account login, see \"action=clientlogin\".\n"
     ]
    }
   ],
   "source": [
    "login = wbi_login.Login(user=WDUSER, password=WDPASS)"
   ]
  },
  {
   "cell_type": "code",
   "execution_count": 6,
   "id": "1c962b5b-aea4-474f-8081-86f80e146f83",
   "metadata": {},
   "outputs": [],
   "source": [
    "wbi = WikibaseIntegrator(login=login)"
   ]
  },
  {
   "cell_type": "code",
   "execution_count": 7,
   "id": "b9dc947d-e9c0-4448-b967-9f3afa9e5f8a",
   "metadata": {},
   "outputs": [],
   "source": [
    "q3 = wbi.item.get('Q3')"
   ]
  },
  {
   "cell_type": "code",
   "execution_count": 8,
   "id": "38b2fd95-6082-446f-bb64-a3cf06c203c6",
   "metadata": {},
   "outputs": [
    {
     "data": {
      "text/plain": [
       "<ItemEntity @bbc3a0 _BaseEntity__api=<wikibaseintegrator.wikibaseintegrator.WikibaseIntegrator object at 0x7f4989bfdbd0>\n",
       "\t _BaseEntity__title='Item:Q3'\n",
       "\t _BaseEntity__pageid=3\n",
       "\t _BaseEntity__lastrevid=5\n",
       "\t _BaseEntity__type='item'\n",
       "\t _BaseEntity__id='Q3'\n",
       "\t _BaseEntity__claims=<Claims @bffb20 _Claims__claims={'P1': [<String @64b9a0 _Claim__mainsnak=<Snak @698520 _Snak__snaktype=<WikibaseSnakType.KNOWN_VALUE: 'value'> _Snak__property_number='P1' _Snak__hash='da1baa775ace78395b6ce74a3d1c247139f6f0cc' _Snak__datavalue={'value': 'Test', 'type': 'string'} _Snak__datatype='string'> _Claim__type='statement' _Claim__qualifiers=<Qualifiers @698460 _Qualifiers__qualifiers={}> _Claim__qualifiers_order=[] _Claim__id='Q3$b47826b9-453b-a8ec-807e-878f9eaf95ac' _Claim__rank=<WikibaseRank.NORMAL: 'normal'> _Claim__removed=False _Claim__references=<References @698310 _References__references=[]>>]}>\n",
       "\t _ItemEntity__labels=<Labels @b7ff10 _LanguageValues__values={'en': <LanguageValue @bfd270 _LanguageValue__language='en' _LanguageValue__value='NTTData test item' _LanguageValue__removed=False>, 'es': <LanguageValue @64b970 _LanguageValue__language='es' _LanguageValue__value='Elemento de prueba de NTTData' _LanguageValue__removed=False>}>\n",
       "\t _ItemEntity__descriptions=<Descriptions @bffb80 _LanguageValues__values={'en': <LanguageValue @698280 _LanguageValue__language='en' _LanguageValue__value='A freshly created element' _LanguageValue__removed=False>, 'es': <LanguageValue @698100 _LanguageValue__language='es' _LanguageValue__value='Un elemento recién creado' _LanguageValue__removed=False>}>\n",
       "\t _ItemEntity__aliases=<Aliases @bfcca0 _Aliases__aliases={'en': [<Alias @6986d0 _LanguageValue__language='en' _LanguageValue__value='Item' _LanguageValue__removed=False>], 'es': [<Alias @6983a0 _LanguageValue__language='es' _LanguageValue__value='Ítem' _LanguageValue__removed=False>]}>\n",
       "\t _ItemEntity__sitelinks=<Sitelinks @bfff40 sitelinks={}>>"
      ]
     },
     "execution_count": 8,
     "metadata": {},
     "output_type": "execute_result"
    }
   ],
   "source": [
    "q3"
   ]
  },
  {
   "cell_type": "code",
   "execution_count": null,
   "id": "7259a028-22cd-4ea7-8ffa-7c1096d5fc11",
   "metadata": {},
   "outputs": [],
   "source": []
  }
 ],
 "metadata": {
  "kernelspec": {
   "display_name": "Py Wikibase",
   "language": "python",
   "name": "wikibase"
  },
  "language_info": {
   "codemirror_mode": {
    "name": "ipython",
    "version": 3
   },
   "file_extension": ".py",
   "mimetype": "text/x-python",
   "name": "python",
   "nbconvert_exporter": "python",
   "pygments_lexer": "ipython3",
   "version": "3.10.4"
  }
 },
 "nbformat": 4,
 "nbformat_minor": 5
}
